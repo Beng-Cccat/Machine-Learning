{
 "cells": [
  {
   "cell_type": "markdown",
   "id": "9a449801",
   "metadata": {},
   "source": [
    "# 机器学习Lab1——基于KNN 的手写数字识别\n",
    "- 姓名：吴静\n",
    "- 学号：2113285\n",
    "- 班级：信息安全二班\n",
    "\n",
    "\n",
    "\n"
   ]
  },
  {
   "cell_type": "markdown",
   "id": "97f8f75c",
   "metadata": {},
   "source": [
    "## 实验要求\n",
    "实验条件：给定semeion手写数字数据集，给定kNN分类算法\n",
    "\n",
    "实验要求：\n",
    "1. 基本要求：编程实现kNN算法；给出在不同k值（1，3，5）情况下，KNN算法对手写数字的识别精度（要求采用留一法）\n",
    "2. 中级要求：与weka机器学习包中的KNN分类结果进行对比（本次实验选择sklearn）\n",
    "3. 提高要求：采用旋转等手段对原始数据进行处理，扩增数据量，采用CNN或其他深度学习方法实现手写体识别"
   ]
  },
  {
   "cell_type": "markdown",
   "id": "e61ce9ce",
   "metadata": {},
   "source": [
    "## 导入需要的包"
   ]
  },
  {
   "cell_type": "code",
   "execution_count": 1,
   "id": "8fe6d0ec",
   "metadata": {},
   "outputs": [
    {
     "name": "stderr",
     "output_type": "stream",
     "text": [
      "E:\\ProgramData\\anaconda3\\Lib\\site-packages\\paramiko\\transport.py:219: CryptographyDeprecationWarning: Blowfish has been deprecated\n",
      "  \"class\": algorithms.Blowfish,\n"
     ]
    }
   ],
   "source": [
    "from sklearn.model_selection import train_test_split\n",
    "from collections import Counter\n",
    "import numpy as np\n",
    "\n",
    "from sklearn.neighbors import KNeighborsClassifier\n",
    "from sklearn.metrics import accuracy_score\n",
    "\n",
    "import imgaug as ia\n",
    "import imgaug.augmenters as iaa\n",
    "from keras import models\n",
    "from keras import layers\n",
    "import cv2\n",
    "import matplotlib.pyplot as plt"
   ]
  },
  {
   "cell_type": "markdown",
   "id": "64c91eaa",
   "metadata": {},
   "source": [
    "## 导入数据集semesion"
   ]
  },
  {
   "cell_type": "code",
   "execution_count": 2,
   "id": "82e6e632",
   "metadata": {},
   "outputs": [],
   "source": [
    "def data_in(filename):\n",
    "    f=open(filename)\n",
    "    content=f.readlines()#将结果存储于一个列表中，行数即列表元素个数\n",
    "    line_num=len(content)#获取列表元素个数即行数\n",
    "    f.close()\n",
    "    #初始化\n",
    "    Map=[]#存储所有行数中除了每行最后十个以外的数，特征矩阵\n",
    "    Vector=[]#存储每行最后十个中第一个1所在的位置，类别向量\n",
    "    for i in range(line_num):#每一行遍历\n",
    "        train_temp=[]#每一行的所有训练元素\n",
    "        temp=content[i].split()#temp是一个列表，其中有每一行的所有元素\n",
    "\n",
    "        for m in temp[:-10]:\n",
    "            m=float(m)\n",
    "            train_temp.append(m)#没有序号要求，直接加在后面就可以\n",
    "        Map.append(train_temp)\n",
    "        \n",
    "        num=0\n",
    "        for m in temp[-10:]:\n",
    "            if m != '1':\n",
    "                #别忘了“：”\n",
    "                #这里1是字符！！\n",
    "                num+=1.0#字符1的个数\n",
    "            else:\n",
    "                break\n",
    "        Vector.append(num)\n",
    "    Vector=np.array(Vector)\n",
    "    Map=np.array(Map)\n",
    "    return Map,Vector"
   ]
  },
  {
   "cell_type": "code",
   "execution_count": 3,
   "id": "3df51025",
   "metadata": {},
   "outputs": [
    {
     "data": {
      "text/plain": [
       "((1593, 256), (1593,))"
      ]
     },
     "execution_count": 3,
     "metadata": {},
     "output_type": "execute_result"
    }
   ],
   "source": [
    "X,Y=data_in('semeion.data')\n",
    "np.shape(X),np.shape(Y)"
   ]
  },
  {
   "cell_type": "code",
   "execution_count": 4,
   "id": "f6ff87e3",
   "metadata": {
    "scrolled": true
   },
   "outputs": [
    {
     "name": "stdout",
     "output_type": "stream",
     "text": [
      "[[0. 0. 0. ... 0. 0. 0.]\n",
      " [0. 0. 0. ... 0. 0. 0.]\n",
      " [0. 0. 0. ... 0. 0. 0.]\n",
      " ...\n",
      " [0. 0. 1. ... 0. 0. 0.]\n",
      " [0. 1. 1. ... 0. 0. 0.]\n",
      " [0. 0. 0. ... 0. 0. 0.]]\n"
     ]
    }
   ],
   "source": [
    "print(X)\n",
    "#若X是列表则会全部输出\n",
    "#若X是np数组则会折叠输出，如下所示"
   ]
  },
  {
   "cell_type": "code",
   "execution_count": 5,
   "id": "d8a48100",
   "metadata": {
    "scrolled": true
   },
   "outputs": [
    {
     "name": "stdout",
     "output_type": "stream",
     "text": [
      "[0. 0. 0. ... 9. 9. 9.]\n"
     ]
    }
   ],
   "source": [
    "print(Y)"
   ]
  },
  {
   "cell_type": "markdown",
   "id": "d91aa4c2",
   "metadata": {},
   "source": [
    "## 实验背景\n",
    "k折交叉检验：\n",
    "<br>将训练集划分为k份，并依次选择其中的⼀份作为测试集，其他作为训练集。\n",
    "<br><br>留一法：\n",
    "<br>令K折交叉检验方法的K等于数据集大小,即只留一个数据样本作为测试集,其余都为训练集.计算平均准确率."
   ]
  },
  {
   "cell_type": "markdown",
   "id": "b4bd40e1",
   "metadata": {},
   "source": [
    "## KNN实验思路\n",
    "1. 总共有多少个数据，就需要进行多少次循环，每个循环里面都会根据当前训练集判断测试集，然后检测当前判断得出的测试集的结果和他实际的标签是否一样。若是一样，则精确度+1，反之不变化。\n",
    "2. 测试集与训练集的划分：测试集依次选取，训练集是总数据集中除去测试集之外的那些数据集（用到delete函数）\n",
    "3. 距离的求取：每一次都计算测试集与每个训练集之间的距离，采用欧几里得算法：差值平方和的开方。\n",
    "4. 由KNN算法得，需要求出距离最近的k个值（用到排序）\n",
    "5. 统计（Counter）这k个值中哪一个的标签最多（此时需要注意一种情况，即有几个标签同时最多的情况，这里需要在most_common中体现）\n",
    "6. 由KNN算法，标签最多的那个标签即为测试集的标签，此时与测试集所对应的标签作比较，如果相同，则正确判断数+1。\n",
    "7. 计算正确率：由前文分析可知，已经求出了正确判断数，由于总共判断了（数据集的个数）次，于是总共的判断数即为数据集的个数。"
   ]
  },
  {
   "cell_type": "markdown",
   "id": "80858ace",
   "metadata": {},
   "source": [
    "## 基本要求\n",
    "编程实现KNN算法，使用留一法，给出在不同k值（1，3，5）情况下，KNN算法对手写数字的识别精度 "
   ]
  },
  {
   "cell_type": "code",
   "execution_count": 6,
   "id": "592f126c",
   "metadata": {},
   "outputs": [],
   "source": [
    "def Knn(data_X, data_Y, k):\n",
    "    #data_X特征\n",
    "    #data_Y标签\n",
    "    num_samples=data_X.shape[0]\n",
    "    #要分成几次（总共会有num_samples个测试集，每一个数据都会成为测试集一次）\n",
    "    right_judge=0\n",
    "    #在那些测试中，总共成功了的次数\n",
    "    \n",
    "    for r in range(num_samples):\n",
    "        X_test = data_X[r]\n",
    "        Y_test = data_Y[r]\n",
    "        #按顺序选取一个测试集\n",
    "        X_train = np.delete(data_X, r, axis=0)\n",
    "        Y_train = np.delete(data_Y, r, axis=0)\n",
    "        #除去分离的测试集，剩下的都是训练集\n",
    "        #X_train训练集特征数据\n",
    "        #X_test测试集特征数据\n",
    "        #Y_train训练集目标数据\n",
    "        #Y_test测试集目标数据\n",
    "        \n",
    "        train_num=X_train.shape[0]\n",
    "        #训练集的大小\n",
    "        distances=[]\n",
    "        #测试集和各个训练集的欧几里得距离的集合\n",
    "        labels=[]\n",
    "        #对应标签\n",
    "        first_k_label=[]\n",
    "        #前k个小距离对应的训练集标签\n",
    "        \n",
    "        for i in range(train_num):\n",
    "            sub=X_test-X_train[i]\n",
    "            #减\n",
    "            squared=np.square(sub)\n",
    "            sum_result=np.sum(squared)\n",
    "            #axis默认为none，表示对整个矩阵进行求和\n",
    "            #axis=0表示按列方向进行操作\n",
    "            #axis=1表示按行方向进行操作\n",
    "            #此时sum_result和squared的行列数相同\n",
    "            sqrt_result=np.sqrt(sum_result)\n",
    "            #进行开方操作\n",
    "            distances.append(sqrt_result)\n",
    "            labels.append(Y_train[i])\n",
    "        sort_index_result=np.argsort(distances)\n",
    "        #升序排序的索引。即升序排列时原数组索引是多少\n",
    "        #sort_result=np.sort(sqrt_result,axis=0)[::-1]表示降序排序\n",
    "        for j in range(k):\n",
    "            first_k_label.append(Y_train[sort_index_result[j]])\n",
    "            #sort_index_result[j]:从最短距离开始取，在原数组中是几号\n",
    "            #range(k):取k个从小到大的最短距离\n",
    "            #Y_train:这个距离对应的标签\n",
    "            #Y_train[j] 表示训练集中的第 j 个样本的目标值（标签）\n",
    "            #Y_train[j][0] 表示训练集中第 j 个样本的目标值的第一个元素\n",
    "            #在大多数情况下，目标值是一个标量\n",
    "            #因此 Y_train[j][0] 将直接对应于第 j 个样本的标签\n",
    "        count=Counter(first_k_label)\n",
    "        #Counter(labelCount) 是用于创建一个计数器对象的语句\n",
    "        #用于计算可迭代对象中每个元素的出现次数，并将结果存储为一个字典\n",
    "        #其中键是标签，值是标签出现的次数\n",
    "        first_two=count.most_common(2)[0][0]\n",
    "        #使用 most_common() 方法获取出现次数最多的前两个标签以及它们的出现次数\n",
    "        #返回一个列表，其中包含元组 (标签, 出现次数)，按照出现次数从大到小排序\n",
    "        #[0][0] 用于获取列表中的第一个元组，即出现次数最多的标签和它的出现次数\n",
    "        if first_two==Y_test:\n",
    "            right_judge+=1\n",
    "    accuracy=right_judge/num_samples\n",
    "    print(\"k=\",k,\"时，判断正确个数:\",right_judge,\"个，总共有:\",num_samples,\"个样本（训练了\",num_samples,\"次），识别正确率：\",accuracy)\n",
    "    return accuracy"
   ]
  },
  {
   "cell_type": "markdown",
   "id": "9cff21ea",
   "metadata": {},
   "source": [
    "实验结果："
   ]
  },
  {
   "cell_type": "code",
   "execution_count": 7,
   "id": "d7ac68f1",
   "metadata": {
    "scrolled": true
   },
   "outputs": [
    {
     "name": "stdout",
     "output_type": "stream",
     "text": [
      "k= 1 时，判断正确个数: 1459 个，总共有: 1593 个样本（训练了 1593 次），识别正确率： 0.9158819836785939\n",
      "k= 3 时，判断正确个数: 1464 个，总共有: 1593 个样本（训练了 1593 次），识别正确率： 0.9190207156308852\n",
      "k= 5 时，判断正确个数: 1458 个，总共有: 1593 个样本（训练了 1593 次），识别正确率： 0.9152542372881356\n"
     ]
    },
    {
     "data": {
      "text/plain": [
       "0.9152542372881356"
      ]
     },
     "execution_count": 7,
     "metadata": {},
     "output_type": "execute_result"
    }
   ],
   "source": [
    "Knn(X,Y,1)\n",
    "Knn(X,Y,3)\n",
    "Knn(X,Y,5)"
   ]
  },
  {
   "cell_type": "markdown",
   "id": "49650917",
   "metadata": {},
   "source": [
    "## 中级要求\n",
    "与sklearn机器学习包中的kNN分类结果进行对比"
   ]
  },
  {
   "cell_type": "code",
   "execution_count": 8,
   "id": "fac3b09c",
   "metadata": {},
   "outputs": [],
   "source": [
    "def knn_sklearn(X,Y,k):\n",
    "    num_samples=X.shape[0]\n",
    "    accu=[]\n",
    "    for r in range(num_samples):\n",
    "        X_test = [X[r]]\n",
    "        Y_test = Y[r]\n",
    "        #按顺序选取一个测试集\n",
    "        X_train = np.delete(X, r, axis=0)\n",
    "        Y_train = np.delete(Y, r, axis=0)\n",
    "        #除去分离的测试集，剩下的都是训练集\n",
    "        #X_train训练集特征数据\n",
    "        #X_test测试集特征数据\n",
    "        #Y_train训练集目标数据\n",
    "        #Y_test测试集目标数据\n",
    "        \n",
    "        X_test=np.array(X_test)\n",
    "        Y_test=np.array(Y_test)\n",
    "        knn_classifier=KNeighborsClassifier(n_neighbors=k)\n",
    "        #实例化KNN模型\n",
    "        knn_classifier.fit(X_train,Y_train)\n",
    "        #放入训练数据进行训练\n",
    "        Y_pred=knn_classifier.predict(X_test)\n",
    "        #预测内容\n",
    "        accuracy=accuracy_score([Y_test],[Y_pred])\n",
    "        accu.append(accuracy)\n",
    "    print(\"k=\",k,\"时，sklearn判断正确个数:\",np.sum(accu),\"个，总共有:\",num_samples,\"个样本（训练了\",num_samples,\"次），识别正确率：\",np.sum(accu)/num_samples)"
   ]
  },
  {
   "cell_type": "code",
   "execution_count": 9,
   "id": "034c2cf1",
   "metadata": {},
   "outputs": [
    {
     "name": "stdout",
     "output_type": "stream",
     "text": [
      "k= 1 时，sklearn判断正确个数: 1461.0 个，总共有: 1593 个样本（训练了 1593 次），识别正确率： 0.9171374764595104\n",
      "k= 3 时，sklearn判断正确个数: 1439.0 个，总共有: 1593 个样本（训练了 1593 次），识别正确率： 0.9033270558694287\n",
      "k= 5 时，sklearn判断正确个数: 1439.0 个，总共有: 1593 个样本（训练了 1593 次），识别正确率： 0.9033270558694287\n"
     ]
    }
   ],
   "source": [
    "knn_sklearn(X,Y,1)\n",
    "knn_sklearn(X,Y,3)\n",
    "knn_sklearn(X,Y,5)"
   ]
  },
  {
   "cell_type": "markdown",
   "id": "703e9ea8",
   "metadata": {},
   "source": [
    "## 提高要求\n",
    "采用旋转等手段对原始数据进行处理，扩增数据量，采用CNN或其他深度学习方法实现手写体识别)"
   ]
  },
  {
   "cell_type": "markdown",
   "id": "401a5f36",
   "metadata": {},
   "source": [
    "在Python中，数据扩充是通过对原始数据应用一系列变换或增强技术来生成更多的样本，包括翻转、旋转、尺度变换、随机抠取、色彩抖动等。这些方法可以应用于各种类型的数据，包括图像、文本、时间序列等。\n",
    "本次实验使用imgaug进行图像增强。"
   ]
  },
  {
   "cell_type": "code",
   "execution_count": 10,
   "id": "8d4a87f8",
   "metadata": {},
   "outputs": [],
   "source": [
    "X,Y=data_in('semeion.data')\n",
    "#加载原始数据\n",
    "\n",
    "intense= iaa.Sequential([\n",
    "    iaa.Affine(rotate=(-10,10)),  # 添加各种增强操作\n",
    "    iaa.Affine(rotate=(0.8,1.2)),  # 添加其他增强操作\n",
    "    # ...\n",
    "])\n",
    "\n",
    "# seq = iaa.Sequential([\n",
    "#     iaa.SomeAugmentation(),  # 添加各种增强操作\n",
    "#     iaa.AnotherAugmentation(),  # 添加其他增强操作\n",
    "#     # ...\n",
    "# ])\n",
    "#使用 iaa.Affine(rotate=degrees) 来表示旋转操作\n",
    "#其中 degrees 是旋转的角度（以度为单位）\n",
    "#这个值可以是一个数值，也可以是一个范围，用于表示随机旋转的角度。\n",
    "#使用 iaa.Resize(scale) 来表示缩放操作,scale 是缩放因子\n"
   ]
  },
  {
   "cell_type": "markdown",
   "id": "25597683",
   "metadata": {},
   "source": [
    "数据进行增强后，我们需要对数据进行变换，使之满足CNN的输入数据要求，具体表现为：\n",
    "\n",
    "1.**图像大小一致性**：在训练 CNN 模型时，输入图像的大小通常需要保持一致。这是因为卷积层和池化层等层次的结构期望输入数据具有相同的维度。在代码中，使用 cv2.resize 函数将增强后的图像调整为相同的期望大小 (16, 16)。\n",
    "\n",
    "2.**四维输入**：CNN 的输入数据通常是四维的，具体要求为 (Batch Size, Height, Width, Channels)。在代码中，通过 X_train = X_train.reshape(-1, 16, 16, 1) 和 X_test = X_test.reshape(-1, 16, 16, 1) 将输入数据的形状调整为四维，其中 Batch Size 表示样本数量，Height 和 Width 表示图像的高度和宽度，Channels 表示通道数，通常为 1（灰度图像）或 3（彩色图像）。\n",
    "\n",
    "3.**标签数据一致性**：输入数据的标签数据也需要与输入数据一致。在代码中，通过 Y = Y.reshape(-1, 1) 将标签数据的形状调整为 (Batch Size, 1)，以确保标签与输入数据匹配。"
   ]
  },
  {
   "cell_type": "code",
   "execution_count": 11,
   "id": "0c974a6b",
   "metadata": {},
   "outputs": [],
   "source": [
    "expected_shape=(16,16)\n",
    "\n",
    "X_all=[]\n",
    "#存储每个数据增强后的图像\n",
    "\n",
    "for image in X:\n",
    "    augmented_image = intense.augment_image(image.reshape(16,16))\n",
    "    #使用增强序列将增强操作应用到图像数据上。\n",
    "    \n",
    "    augmented_image=cv2.resize(augmented_image,expected_shape)\n",
    "    #cv2.resize 函数被用于将 augmented_img 调整为指定的 expected_shape，这里是 (16, 16) 像素。\n",
    "    #这个函数会将图像按照指定的大小进行缩放或拉伸，以适应新的大小,以便输入到卷积神经网络（CNN）中\n",
    "    \n",
    "    X_all.append(augmented_image.flatten())\n",
    "    #将二维的图像数组转换成一维的向量，以便它们可以作为特征输入到卷积神经网络（CNN）模型中。\n",
    "    \n",
    "X_all=np.array(X_all)\n",
    "#转化为np数组\n",
    "\n",
    "# 将 Y 的形状从 (1593,) 转换为 (1593, 1)\n",
    "Y = Y.reshape(-1, 1)\n",
    "\n",
    "# 合并原始数据和增强数据\n",
    "X_combined = np.vstack((X, X_all))\n",
    "Y_combined = np.vstack((Y, Y))\n",
    "#vstack()用于垂直（按行）堆叠多个数组\n",
    "\n",
    "# 划分训练集和测试集\n",
    "X_train, X_test, Y_train, Y_test = train_test_split(X_combined, Y_combined, test_size=0.2, random_state=42)\n",
    "\n",
    "# 将输入数据的形状调整为 (None, 16, 16, 1)\n",
    "X_train = X_train.reshape(-1, 16, 16, 1)\n",
    "X_test = X_test.reshape(-1, 16, 16, 1)\n"
   ]
  },
  {
   "cell_type": "markdown",
   "id": "a12d2e45",
   "metadata": {},
   "source": [
    "接下来构建一个CNN模型："
   ]
  },
  {
   "cell_type": "code",
   "execution_count": 12,
   "id": "494ebd1c",
   "metadata": {},
   "outputs": [],
   "source": [
    "# 创建一个顺序模型\n",
    "model = models.Sequential()\n",
    "\n",
    "# 添加卷积层\n",
    "model.add(layers.Conv2D(32, (3, 3), activation='relu', input_shape=(16, 16, 1)))  # 输入形状根据图像大小和通道数调整\n",
    "\n",
    "# 添加最大池化层\n",
    "model.add(layers.MaxPooling2D((2, 2)))\n",
    "\n",
    "# 添加另一个卷积层\n",
    "model.add(layers.Conv2D(64, (3, 3), activation='relu'))\n",
    "\n",
    "# 添加另一个最大池化层\n",
    "model.add(layers.MaxPooling2D((2, 2)))\n",
    "\n",
    "# 添加全连接层\n",
    "model.add(layers.Flatten())\n",
    "model.add(layers.Dense(64, activation='relu'))\n",
    "\n",
    "# 输出层\n",
    "model.add(layers.Dense(10, activation='softmax'))  \n",
    "# 假设有10个类别，通常用于分类问题的输出层激活函数是 softmax\n"
   ]
  },
  {
   "cell_type": "markdown",
   "id": "588d12fc",
   "metadata": {},
   "source": [
    "接下来编译模型："
   ]
  },
  {
   "cell_type": "code",
   "execution_count": 13,
   "id": "6aa0fe59",
   "metadata": {},
   "outputs": [],
   "source": [
    "# 编译模型\n",
    "model.compile(optimizer='adam',\n",
    "              loss='sparse_categorical_crossentropy',\n",
    "              metrics=['accuracy'])\n",
    "#损失函数选择sparse_categorical_crossentropy ；\n",
    "#优化器选择adam"
   ]
  },
  {
   "cell_type": "markdown",
   "id": "38da0dde",
   "metadata": {},
   "source": [
    "接下来训练模型："
   ]
  },
  {
   "cell_type": "code",
   "execution_count": 14,
   "id": "c1b22f54",
   "metadata": {},
   "outputs": [
    {
     "name": "stdout",
     "output_type": "stream",
     "text": [
      "Epoch 1/10\n",
      "32/32 [==============================] - 1s 12ms/step - loss: 2.0114 - accuracy: 0.3862 - val_loss: 1.5654 - val_accuracy: 0.5059\n",
      "Epoch 2/10\n",
      "32/32 [==============================] - 0s 8ms/step - loss: 1.0688 - accuracy: 0.6958 - val_loss: 0.8632 - val_accuracy: 0.7529\n",
      "Epoch 3/10\n",
      "32/32 [==============================] - 0s 7ms/step - loss: 0.6805 - accuracy: 0.7900 - val_loss: 0.6588 - val_accuracy: 0.8000\n",
      "Epoch 4/10\n",
      "32/32 [==============================] - 0s 7ms/step - loss: 0.5234 - accuracy: 0.8400 - val_loss: 0.5574 - val_accuracy: 0.8314\n",
      "Epoch 5/10\n",
      "32/32 [==============================] - 0s 8ms/step - loss: 0.4327 - accuracy: 0.8724 - val_loss: 0.5072 - val_accuracy: 0.8431\n",
      "Epoch 6/10\n",
      "32/32 [==============================] - 0s 9ms/step - loss: 0.3504 - accuracy: 0.8970 - val_loss: 0.4226 - val_accuracy: 0.8627\n",
      "Epoch 7/10\n",
      "32/32 [==============================] - 0s 8ms/step - loss: 0.2955 - accuracy: 0.9156 - val_loss: 0.3560 - val_accuracy: 0.8922\n",
      "Epoch 8/10\n",
      "32/32 [==============================] - 0s 8ms/step - loss: 0.2568 - accuracy: 0.9303 - val_loss: 0.3742 - val_accuracy: 0.8882\n",
      "Epoch 9/10\n",
      "32/32 [==============================] - 0s 8ms/step - loss: 0.2136 - accuracy: 0.9357 - val_loss: 0.2799 - val_accuracy: 0.9078\n",
      "Epoch 10/10\n",
      "32/32 [==============================] - 0s 9ms/step - loss: 0.1796 - accuracy: 0.9495 - val_loss: 0.2803 - val_accuracy: 0.9098\n"
     ]
    }
   ],
   "source": [
    "history = model.fit(X_train, Y_train, epochs=10, batch_size=64, validation_split=0.2)\n",
    "#训练模型\n",
    "#validation_split（验证集划分比例）:表示从训练数据中分割出的验证集的比例\n",
    "#epochs 指定了模型在整个训练数据集上训练的次数\n",
    "#batch_size 决定了每个训练迭代中用于更新模型权重的样本数量"
   ]
  },
  {
   "cell_type": "markdown",
   "id": "0aae27dc",
   "metadata": {},
   "source": [
    "接下来评估模型："
   ]
  },
  {
   "cell_type": "code",
   "execution_count": 15,
   "id": "61838649",
   "metadata": {
    "scrolled": true
   },
   "outputs": [
    {
     "name": "stdout",
     "output_type": "stream",
     "text": [
      "20/20 [==============================] - 0s 3ms/step - loss: 0.2208 - accuracy: 0.9357\n"
     ]
    }
   ],
   "source": [
    "test_loss, test_acc = model.evaluate(X_test, Y_test)\n",
    "#评估模型"
   ]
  },
  {
   "cell_type": "markdown",
   "id": "4b4d4de4",
   "metadata": {},
   "source": [
    "可视化训练历史，使用图形库（这里使用的是Matplotlib）进行可视化："
   ]
  },
  {
   "cell_type": "code",
   "execution_count": 16,
   "id": "0bd0bfd2",
   "metadata": {},
   "outputs": [
    {
     "data": {
      "image/png": "[encoded data removed]",
      "text/plain": [
       "<Figure size 640x480 with 1 Axes>"
      ]
     },
     "metadata": {},
     "output_type": "display_data"
    }
   ],
   "source": [
    "# 绘制训练和验证的损失曲线\n",
    "plt.plot(history.history['loss'], label='train')\n",
    "plt.plot(history.history['val_loss'], label='validation')\n",
    "plt.xlabel('Epochs')\n",
    "plt.ylabel('Loss')\n",
    "plt.legend()\n",
    "plt.show()\n",
    "#可视化训练历史"
   ]
  }
 ],
 "metadata": {
  "kernelspec": {
   "display_name": "Python 3 (ipykernel)",
   "language": "python",
   "name": "python3"
  },
  "language_info": {
   "codemirror_mode": {
    "name": "ipython",
    "version": 3
   },
   "file_extension": ".py",
   "mimetype": "text/x-python",
   "name": "python",
   "nbconvert_exporter": "python",
   "pygments_lexer": "ipython3",
   "version": "3.11.4"
  }
 },
 "nbformat": 4,
 "nbformat_minor": 5
}
