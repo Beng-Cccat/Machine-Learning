{
 "cells": [
  {
   "cell_type": "code",
   "execution_count": 1,
   "id": "a6d6c46a",
   "metadata": {},
   "outputs": [],
   "source": [
    "import numpy as np\n",
    "import operator\n",
    "from collections import Counter\n",
    "from sklearn.model_selection import train_test_split,cross_val_score\n",
    "from sklearn.model_selection import LeaveOneOut\n",
    "from sklearn.neighbors import KNeighborsClassifier\n",
    "from tqdm import tqdm\n",
    "import matplotlib.pyplot as plt\n",
    "import time"
   ]
  },
  {
   "cell_type": "code",
   "execution_count": 2,
   "id": "a7919a45",
   "metadata": {},
   "outputs": [],
   "source": [
    "# 导入数据\n",
    "def Img2Mat(fileName):\n",
    "    f = open(fileName)\n",
    "    ss = f.readlines()\n",
    "    l = len(ss)\n",
    "    f.close()\n",
    "    returnMat = np.zeros((l,256))\n",
    "    returnClassVector = np.zeros((l,1))\n",
    "    for i in range(l):\n",
    "        s1 = ss[i].split()\n",
    "        for j in range(256):\n",
    "            returnMat[i][j] = np.float(s1[j])\n",
    "        clCount = 0\n",
    "        for j in range(256,266):\n",
    "            if s1[j] != '1':\n",
    "                clCount += 1\n",
    "            else:\n",
    "                break\n",
    "        returnClassVector[i] = clCount\n",
    "    return returnMat,returnClassVector"
   ]
  },
  {
   "cell_type": "code",
   "execution_count": 3,
   "id": "8b176d50",
   "metadata": {},
   "outputs": [
    {
     "name": "stderr",
     "output_type": "stream",
     "text": [
      "C:\\Users\\Administrator\\AppData\\Local\\Temp\\ipykernel_13096\\2757158993.py:12: DeprecationWarning: `np.float` is a deprecated alias for the builtin `float`. To silence this warning, use `float` by itself. Doing this will not modify any behavior and is safe. If you specifically wanted the numpy scalar type, use `np.float64` here.\n",
      "Deprecated in NumPy 1.20; for more details and guidance: https://numpy.org/devdocs/release/1.20.0-notes.html#deprecations\n",
      "  returnMat[i][j] = np.float(s1[j])\n"
     ]
    },
    {
     "data": {
      "text/plain": [
       "((1593, 256), (1593, 1))"
      ]
     },
     "execution_count": 3,
     "metadata": {},
     "output_type": "execute_result"
    }
   ],
   "source": [
    "X,y = Img2Mat('semeion.data')\n",
    "np.shape(X), np.shape(y)"
   ]
  },
  {
   "cell_type": "code",
   "execution_count": 4,
   "id": "d64e295d",
   "metadata": {},
   "outputs": [
    {
     "name": "stdout",
     "output_type": "stream",
     "text": [
      "[[0.]\n",
      " [0.]\n",
      " [0.]\n",
      " ...\n",
      " [9.]\n",
      " [9.]\n",
      " [9.]]\n"
     ]
    }
   ],
   "source": [
    "print(y)"
   ]
  },
  {
   "cell_type": "code",
   "execution_count": 11,
   "id": "dd92f04d",
   "metadata": {},
   "outputs": [
    {
     "name": "stdout",
     "output_type": "stream",
     "text": [
      "[[0. 0. 0. ... 0. 0. 0.]\n",
      " [0. 0. 0. ... 0. 0. 0.]\n",
      " [0. 0. 0. ... 0. 0. 0.]\n",
      " ...\n",
      " [0. 0. 1. ... 0. 0. 0.]\n",
      " [0. 1. 1. ... 0. 0. 0.]\n",
      " [0. 0. 0. ... 0. 0. 0.]]\n"
     ]
    }
   ],
   "source": [
    "print(X)"
   ]
  },
  {
   "cell_type": "code",
   "execution_count": 66,
   "id": "5d5368b6",
   "metadata": {},
   "outputs": [],
   "source": [
    "# KNN算法手动实现\n",
    "def MyKnnClassifier(data_X, data_y, neighbors):\n",
    "    # 生成数据集和测试集\n",
    "    X_train, X_test, y_train, y_test = train_test_split(data_X, data_y, test_size=0.2)\n",
    "    #print(\"data_X_shape:\",np.shape(data_X))\n",
    "    #print(\"X_train_shape:\",np.shape(X_train))\n",
    "    #print(X_test)\n",
    "    print(type(X_train))\n",
    "    #print(X_train)\n",
    "    trainShape = X_train.shape[0]   # 获得训练集的大小\n",
    "    testShape = X_test.shape[0]     # 获得测试集的大小\n",
    "    testRes = []  # 存放测试结果\n",
    "    acc = 0   # 计算准确率\n",
    "    for i in range(testShape):  # 针对测试集中每一个样本进行预测\n",
    "        # 差异矩阵 = 该样本与训练集中所有样本之差构成的矩阵\n",
    "        testDiffMat = np.tile(X_test[i],(trainShape , 1)) - X_train\n",
    "        #print(np.tile(X_test[i],(trainShape , 1)))\n",
    "        #print(testDiffMat)\n",
    "        sqTestDiffMat = testDiffMat ** 2    # 将差异矩阵平方\n",
    "        #print(sqTestDiffMat)\n",
    "        # 方差距离为方差矩阵的整行求和，是一个一位列向量\n",
    "        sqTestDiffDis = sqTestDiffMat.sum(axis=1)\n",
    "        testDiffDis = sqTestDiffDis ** 0.5  # 开方生成标准差距离\n",
    "        #print(testDiffDis)\n",
    "        sortIndex = np.argsort(testDiffDis)   # 将标准差距离按照下标排序\n",
    "        #print(sortIndex)\n",
    "        labelCount = []\n",
    "        #print(X_train)\n",
    "        \n",
    "        for j in range(neighbors):  # 考察k近邻属于哪些类\n",
    "            labelCount.append(y_train[sortIndex[j]][0])\n",
    "            #print(sortIndex[j])\n",
    "           # print(y_train[sortIndex[j]][0])\n",
    "        #print(labelCount)\n",
    "        classifyRes = Counter(labelCount)    # 把k近邻中最多的那个标签作为分类结果\n",
    "        #print(classifyRes)\n",
    "        classifyRes = classifyRes.most_common(2)[0][0]\n",
    "        #print(classifyRes)\n",
    "        testRes.append(classifyRes)\n",
    "        if classifyRes == y_test[i]:  # 分类正确则将accRate+1\n",
    "            acc += 1\n",
    "    accRate = acc / X_test.shape[0]\n",
    "    print(acc)\n",
    "    print('k={0}时，测试个数为{1}  正确个数为：{2}  准确率为：{3}'.format(neighbors,X_test.shape[0],acc,accRate))\n",
    "    return accRate"
   ]
  },
  {
   "cell_type": "code",
   "execution_count": 67,
   "id": "d1b28903",
   "metadata": {
    "scrolled": false
   },
   "outputs": [
    {
     "name": "stdout",
     "output_type": "stream",
     "text": [
      "<class 'numpy.ndarray'>\n",
      "286\n",
      "k=1时，测试个数为319  正确个数为：286  准确率为：0.896551724137931\n"
     ]
    },
    {
     "data": {
      "text/plain": [
       "0.896551724137931"
      ]
     },
     "execution_count": 67,
     "metadata": {},
     "output_type": "execute_result"
    }
   ],
   "source": [
    "MyKnnClassifier(X, y, 1)"
   ]
  },
  {
   "cell_type": "code",
   "execution_count": null,
   "id": "e4a1f70b",
   "metadata": {},
   "outputs": [],
   "source": [
    "def Knn(data_X, data_Y, k):\n",
    "    data_X = np.array(data_X)\n",
    "    data_Y = np.array(data_Y)\n",
    "    num_samples = data_X.shape[0]\n",
    "    correct_count = 0\n",
    "    \n",
    "    for i in range(num_samples):\n",
    "        # 分离当前样本作为测试集\n",
    "        X_test = data_X[i]\n",
    "        y_test = data_Y[i]\n",
    "        \n",
    "        # 从数据集中删除当前测试样本\n",
    "        X_train = np.delete(data_X, i, axis=0)\n",
    "        y_train = np.delete(data_Y, i, axis=0)\n",
    "        \n",
    "        # 初始化变量用于存储距离和标签\n",
    "        distances = []\n",
    "        labels = []\n",
    "        \n",
    "        for j in range(X_train.shape[0]):\n",
    "            distance = np.sqrt(np.sum(np.square(X_test - X_train[j])))\n",
    "            distances.append(distance)\n",
    "            labels.append(y_train[j])\n",
    "        \n",
    "        # 对距离进行排序并获取前k个最近的标签\n",
    "        nearest_neighbors = np.argsort(distances)[:k]\n",
    "        nearest_labels = [labels[idx] for idx in nearest_neighbors]\n",
    "        \n",
    "        # 统计最近的k个标签中出现次数最多的标签\n",
    "        predicted_label = Counter(nearest_labels).most_common(1)[0][0]\n",
    "        \n",
    "        # 检查预测是否正确\n",
    "        if predicted_label == y_test:\n",
    "            correct_count += 1\n",
    "        print(\"k=\",k,\"时，正确个数:\",correct_count,\"个，总共:\",X_test.shape[0],\"个，r=\",i)\n",
    "    \n",
    "    accuracy = correct_count / num_samples\n",
    "    print(\"k =\", k, \"时，正确个数:\", correct_count, \"个，总共:\", num_samples, \"个，识别正确率:\", accuracy)\n",
    "    return accuracy"
   ]
  },
  {
   "cell_type": "code",
   "execution_count": null,
   "id": "1de503fe",
   "metadata": {},
   "outputs": [],
   "source": [
    "def Knn_1(data_X, data_Y, k):\n",
    "    X_train, X_test, Y_train, Y_test = train_test_split(data_X, data_Y, test_size=0.2)\n",
    "    #X_train训练集特征数据\n",
    "    #X_test测试集特征数据\n",
    "    #Y_train训练集目标数据\n",
    "    #Y_test测试集目标数据\n",
    "    #test_size测试集所占数据集的比例\n",
    "    #data_X特征\n",
    "    #data_Y标签\n",
    "\n",
    "\n",
    "    #无论输入数据是 Python 列表、NumPy 数组还是其他数据结构\n",
    "    #np.shape 函数都会返回一个元组\n",
    "    #此时X_train是一个列表\n",
    "    #方便起见，将其变为np数组\n",
    "    #print(X_train)\n",
    "    X_train=np.array(X_train)\n",
    "    X_test=np.array(X_test)\n",
    "    print(\"2:\",X_test)\n",
    "    train_num=X_train.shape[0]\n",
    "    #训练集的大小\n",
    "    test_num=X_test.shape[0]\n",
    "    #测试集的大小\n",
    "    test_result=[]\n",
    "    #存放测试结果\n",
    "    acc=0\n",
    "    for i in range(test_num):#针对测试集中的每一个样本进行预测\n",
    "        temp=[]\n",
    "        #for j in range(train_num):\n",
    "            #temp.append(X_test[i])\n",
    "        #用这个方法生成的是一个列表，无法做减法，于是换用tile函数\n",
    "        temp=np.tile(X_test[i],(train_num,1))\n",
    "        sub=temp-X_train\n",
    "        #直接减\n",
    "        squared=np.square(sub)\n",
    "        sum_result=np.sum(squared,axis=1)\n",
    "        #axis默认为none，表示对整个矩阵进行求和\n",
    "        #axis=0表示按列方向进行操作\n",
    "        #axis=1表示按行方向进行操作\n",
    "        #此时sum_result和squared的行列数相同\n",
    "        sqrt_result=np.sqrt(sum_result)\n",
    "        #进行开方操作\n",
    "        sort_index_result=np.argsort(sqrt_result)\n",
    "        #升序排序的索引。即升序排列时原数组索引是多少\n",
    "        #sort_result=np.sort(sqrt_result,axis=0)[::-1]表示降序排序\n",
    "        first=[]\n",
    "        #搜集前k个标签（目标数据）\n",
    "        \n",
    "        for j in range(k):\n",
    "            first.append(Y_train[sort_index_result[j]][0])\n",
    "            #sort_index_result[j]:从最短距离开始取，在原数组中是几号\n",
    "            #range(k):取k个从小到大的最短距离\n",
    "            #Y_train:这个距离对应的标签\n",
    "            #Y_train[j] 表示训练集中的第 j 个样本的目标值（标签）\n",
    "            #Y_train[j][0] 表示训练集中第 j 个样本的目标值的第一个元素\n",
    "            #在大多数情况下，目标值是一个标量\n",
    "            #因此 Y_train[j][0] 将直接对应于第 j 个样本的标签\n",
    "        count=Counter(first)\n",
    "        #Counter(labelCount) 是用于创建一个计数器对象的语句\n",
    "        #用于计算可迭代对象中每个元素的出现次数，并将结果存储为一个字典\n",
    "        #其中键是标签，值是标签出现的次数\n",
    "        first_two=count.most_common(2)[0][0]\n",
    "        #使用 most_common() 方法获取出现次数最多的前两个标签以及它们的出现次数\n",
    "        #返回一个列表，其中包含元组 (标签, 出现次数)，按照出现次数从大到小排序\n",
    "        #[0][0] 用于获取列表中的第一个元组，即出现次数最多的标签和它的出现次数\n",
    "        test_result.append(first_two)\n",
    "        if first_two==Y_test[i]:\n",
    "            acc+=1\n",
    "    accRate=acc/X_test.shape[0]\n",
    "    print(\"k=\",k,\"时，正确个数:\",acc,\"个，总共:\",X_test.shape[0],\"个，识别正确率：\",accRate)\n",
    "    return accRate"
   ]
  },
  {
   "cell_type": "code",
   "execution_count": null,
   "id": "b6859cf5",
   "metadata": {},
   "outputs": [],
   "source": []
  }
 ],
 "metadata": {
  "kernelspec": {
   "display_name": "Python 3 (ipykernel)",
   "language": "python",
   "name": "python3"
  },
  "language_info": {
   "codemirror_mode": {
    "name": "ipython",
    "version": 3
   },
   "file_extension": ".py",
   "mimetype": "text/x-python",
   "name": "python",
   "nbconvert_exporter": "python",
   "pygments_lexer": "ipython3",
   "version": "3.9.13"
  }
 },
 "nbformat": 4,
 "nbformat_minor": 5
}
