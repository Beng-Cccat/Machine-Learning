{
 "cells": [
  {
   "cell_type": "markdown",
   "id": "9a449801",
   "metadata": {},
   "source": [
    "# 机器学习Lab1——基于KNN 的手写数字识别\n",
    "- 姓名：吴静\n",
    "- 学号：2113285\n",
    "- 班级：信息安全二班\n",
    "\n",
    "\n",
    "\n"
   ]
  },
  {
   "cell_type": "markdown",
   "id": "97f8f75c",
   "metadata": {},
   "source": [
    "## 实验要求\n",
    "实验条件：给定semeion手写数字数据集，给定kNN分类算法\n",
    "\n",
    "实验要求：\n",
    "1. 基本要求：编程实现kNN算法；给出在不同k值（1，3，5）情况下，KNN算法对手写数字的识别精度（要求采用留一法）\n",
    "2. 中级要求：与weka机器学习包中的KNN分类结果进行对比\n",
    "3. 提高要求：采用旋转等手段对原始数据进行处理，扩增数据量，采用CNN或其他深度学习方法实现手写体识别)"
   ]
  },
  {
   "cell_type": "markdown",
   "id": "e61ce9ce",
   "metadata": {},
   "source": [
    "## 导入需要的包"
   ]
  },
  {
   "cell_type": "code",
   "execution_count": 1,
   "id": "8fe6d0ec",
   "metadata": {},
   "outputs": [],
   "source": [
    "from sklearn.model_selection import train_test_split\n",
    "from collections import Counter\n",
    "import numpy as np"
   ]
  },
  {
   "cell_type": "markdown",
   "id": "64c91eaa",
   "metadata": {},
   "source": [
    "## 导入数据集semesion"
   ]
  },
  {
   "cell_type": "code",
   "execution_count": 2,
   "id": "82e6e632",
   "metadata": {},
   "outputs": [],
   "source": [
    "def data_in(filename):\n",
    "    f=open(filename)\n",
    "    content=f.readlines()#将结果存储于一个列表中，行数即列表元素个数\n",
    "    line_num=len(content)#获取列表元素个数即行数\n",
    "    f.close()\n",
    "    #初始化\n",
    "    Map=[]#存储所有行数中除了每行最后十个以外的数，特征矩阵\n",
    "    Vector=[]#存储每行最后十个中第一个1所在的位置，类别向量\n",
    "    for i in range(line_num):#每一行遍历\n",
    "        train_temp=[]#每一行的所有训练元素\n",
    "        temp=content[i].split()#temp是一个列表，其中有每一行的所有元素\n",
    "\n",
    "        for m in temp[:-10]:\n",
    "            m=float(m)\n",
    "            train_temp.append(m)#没有序号要求，直接加在后面就可以\n",
    "        Map.append(train_temp)\n",
    "        \n",
    "        num=0\n",
    "        for m in temp[-10:]:\n",
    "            if m != '1':\n",
    "                #别忘了“：”\n",
    "                #这里1是字符！！\n",
    "                num+=1.0#第一个1所在的位置\n",
    "            else:\n",
    "                break\n",
    "        Vector.append(num)\n",
    "    Vector=np.array(Vector)\n",
    "    Map=np.array(Map)\n",
    "    return Map,Vector"
   ]
  },
  {
   "cell_type": "code",
   "execution_count": 3,
   "id": "3df51025",
   "metadata": {},
   "outputs": [
    {
     "data": {
      "text/plain": [
       "((1593, 256), (1593,))"
      ]
     },
     "execution_count": 3,
     "metadata": {},
     "output_type": "execute_result"
    }
   ],
   "source": [
    "X,Y=data_in('semeion.data')\n",
    "np.shape(X),np.shape(Y)"
   ]
  },
  {
   "cell_type": "code",
   "execution_count": 4,
   "id": "f6ff87e3",
   "metadata": {
    "scrolled": true
   },
   "outputs": [
    {
     "name": "stdout",
     "output_type": "stream",
     "text": [
      "[[0. 0. 0. ... 0. 0. 0.]\n",
      " [0. 0. 0. ... 0. 0. 0.]\n",
      " [0. 0. 0. ... 0. 0. 0.]\n",
      " ...\n",
      " [0. 0. 1. ... 0. 0. 0.]\n",
      " [0. 1. 1. ... 0. 0. 0.]\n",
      " [0. 0. 0. ... 0. 0. 0.]]\n"
     ]
    }
   ],
   "source": [
    "print(X)\n",
    "#若X是列表则会全部输出\n",
    "#若X是np数组则会折叠输出，如下所示"
   ]
  },
  {
   "cell_type": "code",
   "execution_count": 5,
   "id": "d8a48100",
   "metadata": {},
   "outputs": [
    {
     "name": "stdout",
     "output_type": "stream",
     "text": [
      "[0. 0. 0. ... 9. 9. 9.]\n"
     ]
    }
   ],
   "source": [
    "print(Y)"
   ]
  },
  {
   "cell_type": "markdown",
   "id": "b4bd40e1",
   "metadata": {},
   "source": [
    "## 基本要求\n",
    "编程实现KNN算法，使用留一法，给出在不同k值（1，3，5）情况下，KNN算法对手写数字的识别精度"
   ]
  },
  {
   "cell_type": "markdown",
   "id": "7dcaf586",
   "metadata": {},
   "source": [
    "留一法：\n",
    "把一个大的数据集分为k个小数据集，其中k-1个作为训练集，剩下的一个作为测试集，然后选择下一个作为测试集，剩下的k-1个作为训练集，以此类推。"
   ]
  },
  {
   "cell_type": "code",
   "execution_count": 6,
   "id": "592f126c",
   "metadata": {},
   "outputs": [],
   "source": [
    "def Knn(data_X, data_Y, k):\n",
    "    #data_X特征\n",
    "    #data_Y标签\n",
    "    num_samples=data_X.shape[0]\n",
    "    #要分成几次（总共会有num_samples个测试集，每一个数据都会成为测试机一次）\n",
    "    acc=0\n",
    "    #在那些测试中，总共成功了的次数\n",
    "    \n",
    "    for r in range(num_samples):\n",
    "        X_test = data_X[r]\n",
    "        Y_test = data_Y[r]\n",
    "        #按顺序选取一个测试集\n",
    "        X_train = np.delete(data_X, r, axis=0)\n",
    "        Y_train = np.delete(data_Y, r, axis=0)\n",
    "        #除去分离的测试集，剩下的都是训练集\n",
    "        #X_train训练集特征数据\n",
    "        #X_test测试集特征数据\n",
    "        #Y_train训练集目标数据\n",
    "        #Y_test测试集目标数据\n",
    "        \n",
    "        train_num=X_train.shape[0]\n",
    "        #训练集的大小\n",
    "        distances=[]\n",
    "        #测试集和各个训练集的欧几里得距离的集合\n",
    "        labels=[]\n",
    "        #对应标签\n",
    "        first_k_label=[]\n",
    "        #前k个小距离对应的训练集标签\n",
    "        \n",
    "        for i in range(train_num):\n",
    "            sub=X_test-X_train[i]\n",
    "            #减\n",
    "            squared=np.square(sub)\n",
    "            sum_result=np.sum(squared)\n",
    "            #axis默认为none，表示对整个矩阵进行求和\n",
    "            #axis=0表示按列方向进行操作\n",
    "            #axis=1表示按行方向进行操作\n",
    "            #此时sum_result和squared的行列数相同\n",
    "            sqrt_result=np.sqrt(sum_result)\n",
    "            #进行开方操作\n",
    "            distances.append(sqrt_result)\n",
    "            labels.append(Y_train[i])\n",
    "        sort_index_result=np.argsort(distances)\n",
    "        #升序排序的索引。即升序排列时原数组索引是多少\n",
    "        #sort_result=np.sort(sqrt_result,axis=0)[::-1]表示降序排序\n",
    "        for j in range(k):\n",
    "            first_k_label.append(Y_train[sort_index_result[j]])\n",
    "            #sort_index_result[j]:从最短距离开始取，在原数组中是几号\n",
    "            #range(k):取k个从小到大的最短距离\n",
    "            #Y_train:这个距离对应的标签\n",
    "            #Y_train[j] 表示训练集中的第 j 个样本的目标值（标签）\n",
    "            #Y_train[j][0] 表示训练集中第 j 个样本的目标值的第一个元素\n",
    "            #在大多数情况下，目标值是一个标量\n",
    "            #因此 Y_train[j][0] 将直接对应于第 j 个样本的标签\n",
    "        count=Counter(first_k_label)\n",
    "        #Counter(labelCount) 是用于创建一个计数器对象的语句\n",
    "        #用于计算可迭代对象中每个元素的出现次数，并将结果存储为一个字典\n",
    "        #其中键是标签，值是标签出现的次数\n",
    "        first_two=count.most_common(2)[0][0]\n",
    "        #使用 most_common() 方法获取出现次数最多的前两个标签以及它们的出现次数\n",
    "        #返回一个列表，其中包含元组 (标签, 出现次数)，按照出现次数从大到小排序\n",
    "        #[0][0] 用于获取列表中的第一个元组，即出现次数最多的标签和它的出现次数\n",
    "        if first_two==Y_test:\n",
    "            acc+=1\n",
    "    accRate=acc/num_samples\n",
    "    print(\"k=\",k,\"时，正确个数:\",acc,\"个，总共有:\",num_samples,\"个样本（训练了\",num_samples,\"次），识别正确率：\",accRate)\n",
    "    return accRate"
   ]
  },
  {
   "cell_type": "markdown",
   "id": "9cff21ea",
   "metadata": {},
   "source": [
    "实验结果："
   ]
  },
  {
   "cell_type": "code",
   "execution_count": 7,
   "id": "d7ac68f1",
   "metadata": {},
   "outputs": [
    {
     "name": "stdout",
     "output_type": "stream",
     "text": [
      "k= 1 时，正确个数: 1459 个，总共: 256 个，识别正确率： 0.9158819836785939\n"
     ]
    },
    {
     "data": {
      "text/plain": [
       "0.9158819836785939"
      ]
     },
     "execution_count": 7,
     "metadata": {},
     "output_type": "execute_result"
    }
   ],
   "source": [
    "Knn(X,Y,1)"
   ]
  }
 ],
 "metadata": {
  "kernelspec": {
   "display_name": "Python 3 (ipykernel)",
   "language": "python",
   "name": "python3"
  },
  "language_info": {
   "codemirror_mode": {
    "name": "ipython",
    "version": 3
   },
   "file_extension": ".py",
   "mimetype": "text/x-python",
   "name": "python",
   "nbconvert_exporter": "python",
   "pygments_lexer": "ipython3",
   "version": "3.9.13"
  }
 },
 "nbformat": 4,
 "nbformat_minor": 5
}
