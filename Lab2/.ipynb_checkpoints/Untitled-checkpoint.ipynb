{
 "cells": [
  {
   "cell_type": "markdown",
   "id": "4e9bd8db",
   "metadata": {},
   "source": [
    "# 实验二：回归模型\n",
    "- 姓名：吴静\n",
    "- 学号：2113285\n",
    "- 班级：信息安全二班\n"
   ]
  },
  {
   "cell_type": "markdown",
   "id": "8eb892d5",
   "metadata": {},
   "source": [
    "## 实验要求\n",
    "\n",
    "### 基本要求：\n",
    "将数据集winequality-white.csv按照4:1划分为训练集和测试集。\n",
    "- 构造线性回归模型，并采用批量梯度下降**和**随机梯度下降进行优化；输出训练集和测试集的均方误差（MSE），画出MSE收敛曲线。\n",
    "- 对于批量梯度下降**和**随机梯度下降，采用不同的学习率并进行MSE曲线展示，分析选择最佳的学习率。\n",
    "\n",
    "### 中级要求：\n",
    "探究回归模型在机器学习和统计学上的差异。\n",
    "\n",
    "### 提高要求：\n",
    "编程实现岭回归算法，求解训练样本的岭回归模型，平均训练误差和平均测试误差（解析法、批量梯度下降法和随机梯度下降法**均可**）。"
   ]
  },
  {
   "cell_type": "markdown",
   "id": "bd1d7679",
   "metadata": {},
   "source": [
    "### 导入需要的包"
   ]
  },
  {
   "cell_type": "code",
   "execution_count": 1,
   "id": "8d283651",
   "metadata": {},
   "outputs": [],
   "source": [
    "import pandas as pd\n",
    "import numpy as np\n",
    "import matplotlib.pyplot as plt\n",
    "\n",
    "from sklearn.model_selection import train_test_split"
   ]
  },
  {
   "cell_type": "markdown",
   "id": "1c429b41",
   "metadata": {},
   "source": [
    "#### 导入数据集winequality-white.csv"
   ]
  },
  {
   "cell_type": "code",
   "execution_count": 2,
   "id": "372a3d7d",
   "metadata": {},
   "outputs": [],
   "source": [
    "# 读取CSV文件\n",
    "data = pd.read_csv(\"winequality-white.csv\")"
   ]
  },
  {
   "cell_type": "code",
   "execution_count": 3,
   "id": "243c863b",
   "metadata": {},
   "outputs": [],
   "source": [
    "# 中心化代码\n",
    "def Normalization_fun(x):\n",
    "    # 特征零均值\n",
    "    x = (x - np.mean(x, 0)) / (np.max(x, 0) - np.min(x, 0))\n",
    "    return x\n",
    "\n",
    "# 提取特征和标签\n",
    "X = data.iloc[:, 0:-1]  # N D\n",
    "X = Normalization_fun(X)\n",
    "Y = data.iloc[:, -1]"
   ]
  },
  {
   "cell_type": "code",
   "execution_count": 4,
   "id": "96e4556f",
   "metadata": {},
   "outputs": [],
   "source": [
    "# 回归系数会比特征x多一维，为了向量相乘方便，可以在训练集X左侧添加全为1的一列\n",
    "X = pd.concat([pd.DataFrame(np.ones(X.shape[0]), columns=['x0']), X], axis=1)"
   ]
  },
  {
   "cell_type": "code",
   "execution_count": 5,
   "id": "4aec5c2d",
   "metadata": {},
   "outputs": [],
   "source": [
    "#划分数据集和测试集，test_size是测试集的比例\n",
    "x_train, x_test,y_train,y_test = train_test_split(X,Y, test_size=0.2, random_state=42)"
   ]
  },
  {
   "cell_type": "markdown",
   "id": "2915ed1a",
   "metadata": {},
   "source": [
    "#### 对数据进行预处理——中心化"
   ]
  },
  {
   "cell_type": "code",
   "execution_count": 6,
   "id": "81f187e9",
   "metadata": {},
   "outputs": [
    {
     "data": {
      "image/png": "[encoded data removed]",
      "text/plain": [
       "<Figure size 640x480 with 1 Axes>"
      ]
     },
     "metadata": {},
     "output_type": "display_data"
    }
   ],
   "source": [
    "# 可视化中心化后的sulphates特征\n",
    "plt.hist(x_train[\"sulphates\"])\n",
    "plt.show()"
   ]
  },
  {
   "cell_type": "markdown",
   "id": "b391cd36",
   "metadata": {},
   "source": [
    "#### 批量梯度下降——在每次迭代中使用整个训练数据集来更新模型参数"
   ]
  },
  {
   "cell_type": "code",
   "execution_count": null,
   "id": "cacbfec2",
   "metadata": {},
   "outputs": [],
   "source": []
  },
  {
   "cell_type": "markdown",
   "id": "e9e5e1b6",
   "metadata": {},
   "source": [
    "#### 随机梯度下降——在每次迭代中只使用一个样本来更新参数"
   ]
  },
  {
   "cell_type": "code",
   "execution_count": null,
   "id": "eefad222",
   "metadata": {},
   "outputs": [],
   "source": []
  },
  {
   "cell_type": "code",
   "execution_count": null,
   "id": "64e30bfb",
   "metadata": {},
   "outputs": [],
   "source": []
  }
 ],
 "metadata": {
  "kernelspec": {
   "display_name": "Python 3 (ipykernel)",
   "language": "python",
   "name": "python3"
  },
  "language_info": {
   "codemirror_mode": {
    "name": "ipython",
    "version": 3
   },
   "file_extension": ".py",
   "mimetype": "text/x-python",
   "name": "python",
   "nbconvert_exporter": "python",
   "pygments_lexer": "ipython3",
   "version": "3.11.4"
  }
 },
 "nbformat": 4,
 "nbformat_minor": 5
}
