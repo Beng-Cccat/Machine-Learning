{
 "cells": [
  {
   "attachments": {},
   "cell_type": "markdown",
   "id": "ac3951c9",
   "metadata": {},
   "source": [
    "### 导入包"
   ]
  },
  {
   "cell_type": "code",
   "execution_count": null,
   "id": "7eff8f63",
   "metadata": {},
   "outputs": [],
   "source": [
    "import scanpy as sc\n",
    "import pandas as pd\n",
    "import numpy as np\n",
    "import seaborn as sns\n",
    "from scipy.sparse import csr_matrix\n",
    "import matplotlib.pyplot as plt\n",
    "from sklearn.decomposition import PCA"
   ]
  },
  {
   "attachments": {},
   "cell_type": "markdown",
   "id": "d0ae7667",
   "metadata": {},
   "source": [
    "### 数据加载"
   ]
  },
  {
   "cell_type": "code",
   "execution_count": null,
   "id": "64f8d9ae",
   "metadata": {},
   "outputs": [],
   "source": [
    "annData = sc.read_h5ad(\"dataset2.h5ad\")"
   ]
  },
  {
   "cell_type": "code",
   "execution_count": null,
   "id": "772aa6ea",
   "metadata": {},
   "outputs": [],
   "source": [
    "annData.var_names_make_unique()\n",
    "annData.obs_names_make_unique()"
   ]
  },
  {
   "attachments": {},
   "cell_type": "markdown",
   "id": "929f9a2c",
   "metadata": {},
   "source": [
    "读取完数据后首先进行对数据结构annData进行初步了解以及数据的预览："
   ]
  },
  {
   "attachments": {},
   "cell_type": "markdown",
   "id": "119e27b6",
   "metadata": {},
   "source": [
    "[![anndata.jpg](https://i.postimg.cc/2ywCTNkC/anndata.jpg)](https://postimg.cc/xNXrT7NZ)\n"
   ]
  },
  {
   "attachments": {},
   "cell_type": "markdown",
   "id": "229ff236",
   "metadata": {},
   "source": [
    ".var包含基因元数据，即基因的注释信息：横坐标是每个基因名称，纵坐标是每个基因的注释信息"
   ]
  },
  {
   "cell_type": "code",
   "execution_count": null,
   "id": "5ae0841c",
   "metadata": {},
   "outputs": [],
   "source": [
    "print(annData.var)"
   ]
  },
  {
   "cell_type": "code",
   "execution_count": null,
   "id": "30dee0f3",
   "metadata": {},
   "outputs": [],
   "source": [
    "print(annData.var.index)\n",
    "#返回基因，数据类型是object"
   ]
  },
  {
   "cell_type": "code",
   "execution_count": null,
   "id": "9ea4bbe9",
   "metadata": {},
   "outputs": [],
   "source": [
    "print(annData.var_names.to_list())\n",
    "#返回基因，数据类型是list"
   ]
  },
  {
   "cell_type": "code",
   "execution_count": null,
   "id": "40cb0769",
   "metadata": {},
   "outputs": [],
   "source": [
    "#获取数据内容\n",
    "annData.var.head()"
   ]
  },
  {
   "attachments": {},
   "cell_type": "markdown",
   "id": "8bfd91ea",
   "metadata": {},
   "source": [
    ".X是基因-细胞表达量矩阵，是一个稀疏矩阵。横坐标是每个基因的名称，纵坐标是每个细胞的名称"
   ]
  },
  {
   "cell_type": "code",
   "execution_count": null,
   "id": "c7428993",
   "metadata": {},
   "outputs": [],
   "source": [
    "print(annData.X)"
   ]
  },
  {
   "attachments": {},
   "cell_type": "markdown",
   "id": "183cb2d8",
   "metadata": {},
   "source": [
    ".obs是细胞的注释信息等。横坐标是不同的细胞注释结果，纵坐标是细胞名称，如下结果所示，其中细胞注释结果包括了domain和cell_type，后文可能会有新的注释结果。"
   ]
  },
  {
   "cell_type": "code",
   "execution_count": null,
   "id": "8d88a637",
   "metadata": {},
   "outputs": [],
   "source": [
    "annData.obs.head()"
   ]
  },
  {
   "cell_type": "code",
   "execution_count": null,
   "id": "569cb535",
   "metadata": {},
   "outputs": [],
   "source": [
    "print(annData.obs_names)\n",
    "#返回细胞ID，数据类型是Object"
   ]
  },
  {
   "attachments": {},
   "cell_type": "markdown",
   "id": "7b845c8c",
   "metadata": {},
   "source": [
    "最后是.uns，这是一个字典的结构，存储的是一些计算结果，此时输出为OrderedDict()表示其中不包含任何键值对。"
   ]
  },
  {
   "cell_type": "code",
   "execution_count": null,
   "id": "c91a161d",
   "metadata": {},
   "outputs": [],
   "source": [
    "print(annData.uns)"
   ]
  },
  {
   "attachments": {},
   "cell_type": "markdown",
   "id": "a591f006",
   "metadata": {},
   "source": [
    "对其中的每一个部分有大概的印象后，将其转化为dataFrame格式输出，帮助记忆："
   ]
  },
  {
   "cell_type": "code",
   "execution_count": null,
   "id": "dc3a0653",
   "metadata": {},
   "outputs": [],
   "source": [
    "print(annData.to_df())"
   ]
  },
  {
   "attachments": {},
   "cell_type": "markdown",
   "id": "9a0df3dd",
   "metadata": {},
   "source": [
    "从上述输出可以看出，这个数据集总共有9190个细胞，28930个基因。"
   ]
  },
  {
   "attachments": {},
   "cell_type": "markdown",
   "id": "727cd847",
   "metadata": {},
   "source": [
    "输出annData相关信息："
   ]
  },
  {
   "cell_type": "code",
   "execution_count": null,
   "id": "dcb6fd1a",
   "metadata": {},
   "outputs": [],
   "source": [
    "annData"
   ]
  },
  {
   "attachments": {},
   "cell_type": "markdown",
   "id": "79349b38",
   "metadata": {},
   "source": [
    "### 数据过滤"
   ]
  },
  {
   "attachments": {},
   "cell_type": "markdown",
   "id": "53c048b9",
   "metadata": {},
   "source": [
    "首先查看细胞表达基因数量"
   ]
  },
  {
   "cell_type": "code",
   "execution_count": null,
   "id": "919f189f",
   "metadata": {},
   "outputs": [],
   "source": [
    "#存储每个细胞表达了多少基因\n",
    "gene_counts_per_cell=annData.X.sum(axis=1)"
   ]
  },
  {
   "cell_type": "code",
   "execution_count": null,
   "id": "46527ace",
   "metadata": {},
   "outputs": [],
   "source": [
    "#可视化数据\n",
    "plt.figure(figsize=(8, 6))\n",
    "plt.hist(gene_counts_per_cell, bins=50, color='skyblue')\n",
    "plt.xlabel('Gene Counts')\n",
    "plt.ylabel('Number of Cells')\n",
    "plt.title('Distribution of Gene Counts per Cell')\n",
    "plt.grid(True)\n",
    "plt.show()"
   ]
  },
  {
   "attachments": {},
   "cell_type": "markdown",
   "id": "275569f9",
   "metadata": {},
   "source": [
    "可以看到，大部分细胞表达了1000个左右基因"
   ]
  },
  {
   "cell_type": "code",
   "execution_count": 25,
   "id": "f419ac0c",
   "metadata": {},
   "outputs": [
    {
     "name": "stderr",
     "output_type": "stream",
     "text": [
      "E:\\ProgramData\\anaconda3\\Lib\\site-packages\\seaborn\\_oldcore.py:1498: FutureWarning: is_categorical_dtype is deprecated and will be removed in a future version. Use isinstance(dtype, CategoricalDtype) instead\n",
      "  if pd.api.types.is_categorical_dtype(vector):\n",
      "E:\\ProgramData\\anaconda3\\Lib\\site-packages\\seaborn\\_oldcore.py:1498: FutureWarning: is_categorical_dtype is deprecated and will be removed in a future version. Use isinstance(dtype, CategoricalDtype) instead\n",
      "  if pd.api.types.is_categorical_dtype(vector):\n",
      "E:\\ProgramData\\anaconda3\\Lib\\site-packages\\seaborn\\_oldcore.py:1498: FutureWarning: is_categorical_dtype is deprecated and will be removed in a future version. Use isinstance(dtype, CategoricalDtype) instead\n",
      "  if pd.api.types.is_categorical_dtype(vector):\n",
      "E:\\ProgramData\\anaconda3\\Lib\\site-packages\\seaborn\\_oldcore.py:1498: FutureWarning: is_categorical_dtype is deprecated and will be removed in a future version. Use isinstance(dtype, CategoricalDtype) instead\n",
      "  if pd.api.types.is_categorical_dtype(vector):\n",
      "E:\\ProgramData\\anaconda3\\Lib\\site-packages\\seaborn\\_oldcore.py:1498: FutureWarning: is_categorical_dtype is deprecated and will be removed in a future version. Use isinstance(dtype, CategoricalDtype) instead\n",
      "  if pd.api.types.is_categorical_dtype(vector):\n",
      "E:\\ProgramData\\anaconda3\\Lib\\site-packages\\seaborn\\_oldcore.py:1498: FutureWarning: is_categorical_dtype is deprecated and will be removed in a future version. Use isinstance(dtype, CategoricalDtype) instead\n",
      "  if pd.api.types.is_categorical_dtype(vector):\n",
      "E:\\ProgramData\\anaconda3\\Lib\\site-packages\\seaborn\\_oldcore.py:1498: FutureWarning: is_categorical_dtype is deprecated and will be removed in a future version. Use isinstance(dtype, CategoricalDtype) instead\n",
      "  if pd.api.types.is_categorical_dtype(vector):\n",
      "E:\\ProgramData\\anaconda3\\Lib\\site-packages\\seaborn\\_oldcore.py:1498: FutureWarning: is_categorical_dtype is deprecated and will be removed in a future version. Use isinstance(dtype, CategoricalDtype) instead\n",
      "  if pd.api.types.is_categorical_dtype(vector):\n",
      "E:\\ProgramData\\anaconda3\\Lib\\site-packages\\seaborn\\_oldcore.py:1498: FutureWarning: is_categorical_dtype is deprecated and will be removed in a future version. Use isinstance(dtype, CategoricalDtype) instead\n",
      "  if pd.api.types.is_categorical_dtype(vector):\n",
      "E:\\ProgramData\\anaconda3\\Lib\\site-packages\\seaborn\\_oldcore.py:1498: FutureWarning: is_categorical_dtype is deprecated and will be removed in a future version. Use isinstance(dtype, CategoricalDtype) instead\n",
      "  if pd.api.types.is_categorical_dtype(vector):\n",
      "E:\\ProgramData\\anaconda3\\Lib\\site-packages\\seaborn\\_oldcore.py:1498: FutureWarning: is_categorical_dtype is deprecated and will be removed in a future version. Use isinstance(dtype, CategoricalDtype) instead\n",
      "  if pd.api.types.is_categorical_dtype(vector):\n",
      "E:\\ProgramData\\anaconda3\\Lib\\site-packages\\seaborn\\_oldcore.py:1498: FutureWarning: is_categorical_dtype is deprecated and will be removed in a future version. Use isinstance(dtype, CategoricalDtype) instead\n",
      "  if pd.api.types.is_categorical_dtype(vector):\n",
      "E:\\ProgramData\\anaconda3\\Lib\\site-packages\\seaborn\\_oldcore.py:1498: FutureWarning: is_categorical_dtype is deprecated and will be removed in a future version. Use isinstance(dtype, CategoricalDtype) instead\n",
      "  if pd.api.types.is_categorical_dtype(vector):\n",
      "E:\\ProgramData\\anaconda3\\Lib\\site-packages\\seaborn\\_oldcore.py:1498: FutureWarning: is_categorical_dtype is deprecated and will be removed in a future version. Use isinstance(dtype, CategoricalDtype) instead\n",
      "  if pd.api.types.is_categorical_dtype(vector):\n",
      "E:\\ProgramData\\anaconda3\\Lib\\site-packages\\seaborn\\_oldcore.py:1498: FutureWarning: is_categorical_dtype is deprecated and will be removed in a future version. Use isinstance(dtype, CategoricalDtype) instead\n",
      "  if pd.api.types.is_categorical_dtype(vector):\n",
      "E:\\ProgramData\\anaconda3\\Lib\\site-packages\\seaborn\\_oldcore.py:1498: FutureWarning: is_categorical_dtype is deprecated and will be removed in a future version. Use isinstance(dtype, CategoricalDtype) instead\n",
      "  if pd.api.types.is_categorical_dtype(vector):\n",
      "E:\\ProgramData\\anaconda3\\Lib\\site-packages\\seaborn\\_oldcore.py:1498: FutureWarning: is_categorical_dtype is deprecated and will be removed in a future version. Use isinstance(dtype, CategoricalDtype) instead\n",
      "  if pd.api.types.is_categorical_dtype(vector):\n",
      "E:\\ProgramData\\anaconda3\\Lib\\site-packages\\seaborn\\_oldcore.py:1498: FutureWarning: is_categorical_dtype is deprecated and will be removed in a future version. Use isinstance(dtype, CategoricalDtype) instead\n",
      "  if pd.api.types.is_categorical_dtype(vector):\n",
      "E:\\ProgramData\\anaconda3\\Lib\\site-packages\\seaborn\\_oldcore.py:1498: FutureWarning: is_categorical_dtype is deprecated and will be removed in a future version. Use isinstance(dtype, CategoricalDtype) instead\n",
      "  if pd.api.types.is_categorical_dtype(vector):\n",
      "E:\\ProgramData\\anaconda3\\Lib\\site-packages\\seaborn\\_oldcore.py:1498: FutureWarning: is_categorical_dtype is deprecated and will be removed in a future version. Use isinstance(dtype, CategoricalDtype) instead\n",
      "  if pd.api.types.is_categorical_dtype(vector):\n"
     ]
    },
    {
     "data": {
      "image/png": "[encoded data removed]",
      "text/plain": [
       "<Figure size 500x550 with 1 Axes>"
      ]
     },
     "metadata": {},
     "output_type": "display_data"
    }
   ],
   "source": [
    "sc.pl.highest_expr_genes(annData, n_top=20)\n",
    "#展示在所有的细胞当中表达占比最高的20个基因"
   ]
  },
  {
   "attachments": {},
   "cell_type": "markdown",
   "id": "f455dfa1",
   "metadata": {},
   "source": [
    "其中表达占比最高的基因是Malat1"
   ]
  },
  {
   "attachments": {},
   "cell_type": "markdown",
   "id": "9a0692d0",
   "metadata": {},
   "source": [
    "接下来可视化每个基因表达的细胞数量："
   ]
  },
  {
   "cell_type": "code",
   "execution_count": 26,
   "id": "18db3f63",
   "metadata": {},
   "outputs": [],
   "source": [
    "# 计算每个基因的表达细胞数量\n",
    "cells_expressed_per_gene = annData.X.getnnz(axis=0)"
   ]
  },
  {
   "cell_type": "code",
   "execution_count": 27,
   "id": "80bd073f",
   "metadata": {},
   "outputs": [
    {
     "data": {
      "image/png": "[encoded data removed]",
      "text/plain": [
       "<Figure size 800x600 with 1 Axes>"
      ]
     },
     "metadata": {},
     "output_type": "display_data"
    }
   ],
   "source": [
    "# 绘制直方图\n",
    "plt.figure(figsize=(8, 6))\n",
    "plt.hist(cells_expressed_per_gene, bins=50, color='skyblue')\n",
    "plt.xlabel('Number of Cells Expressing Gene')\n",
    "plt.ylabel('Number of Genes')\n",
    "plt.title('Gene Expression Distribution Across Cells')\n",
    "plt.grid(True)\n",
    "# 设置横坐标范围为 0 到 100\n",
    "#plt.xlim(0, 1000)\n",
    "#plt.ylim(0,17000)\n",
    "plt.show()"
   ]
  },
  {
   "attachments": {},
   "cell_type": "markdown",
   "id": "d671b2a5",
   "metadata": {},
   "source": [
    "如图可以发现，大部分基因由500左右个细胞表达，最多的被8000个基因表达。"
   ]
  },
  {
   "attachments": {},
   "cell_type": "markdown",
   "id": "d6f557e4",
   "metadata": {},
   "source": [
    "进行初步筛选：去除表达基因200以下的细胞和在3个细胞以下表达的基因："
   ]
  },
  {
   "cell_type": "code",
   "execution_count": 28,
   "id": "14202997",
   "metadata": {},
   "outputs": [],
   "source": [
    "sc.pp.filter_cells(annData,min_genes=200)\n",
    "#去除表达基因200以下的细胞\n",
    "sc.pp.filter_genes(annData,min_cells=3)\n",
    "#去除在3个细胞以下表达的基因"
   ]
  },
  {
   "cell_type": "code",
   "execution_count": 29,
   "id": "ece5ee8d",
   "metadata": {},
   "outputs": [
    {
     "data": {
      "text/plain": [
       "AnnData object with n_obs × n_vars = 9187 × 23350\n",
       "    obs: 'domain', 'cell_type', 'n_genes'\n",
       "    var: 'n_cells'\n",
       "    layers: 'log1p_norm'"
      ]
     },
     "execution_count": 29,
     "metadata": {},
     "output_type": "execute_result"
    }
   ],
   "source": [
    "annData"
   ]
  },
  {
   "attachments": {},
   "cell_type": "markdown",
   "id": "1f6e6261",
   "metadata": {},
   "source": [
    "可以看到，在基础过滤之后，细胞数量为9187，基因数量被过滤至了23350；说明过滤有一定效果。"
   ]
  },
  {
   "attachments": {},
   "cell_type": "markdown",
   "id": "7467d654",
   "metadata": {},
   "source": [
    "### 数据归一化\n",
    "- 目的：\n",
    "  - 使数据接近正态分布\n",
    "  - 确保数据的尺度一致性\n",
    "- 方法：\n",
    "  - 移位对数变换：有利于稳定方差，以利于后续降维和差异表达基因的识别\n",
    "  - 皮尔森近似残差：保留生物学差异，并鉴定稀有细胞类型"
   ]
  },
  {
   "attachments": {},
   "cell_type": "markdown",
   "id": "ffe4f299",
   "metadata": {},
   "source": [
    "#### 基于delta的移位对数"
   ]
  },
  {
   "cell_type": "code",
   "execution_count": 30,
   "id": "a74d284f",
   "metadata": {},
   "outputs": [],
   "source": [
    "#inplace=False表示此操作不会更改原始的AnnData对象，而是返回一个新的对象\n",
    "scales_counts = sc.pp.normalize_total(annData, target_sum=None, inplace=False)\n",
    "#对经过总数归一化处理后的数据进行log1p转换，并将结果存储在AnnData对象的layers中的\"log1p_norm\"层\n",
    "annData.layers[\"log1p_norm\"] = sc.pp.log1p(scales_counts[\"X\"], copy=True)"
   ]
  },
  {
   "cell_type": "code",
   "execution_count": 31,
   "id": "7215f023",
   "metadata": {},
   "outputs": [
    {
     "name": "stderr",
     "output_type": "stream",
     "text": [
      "E:\\ProgramData\\anaconda3\\Lib\\site-packages\\seaborn\\_oldcore.py:1498: FutureWarning: is_categorical_dtype is deprecated and will be removed in a future version. Use isinstance(dtype, CategoricalDtype) instead\n",
      "  if pd.api.types.is_categorical_dtype(vector):\n",
      "E:\\ProgramData\\anaconda3\\Lib\\site-packages\\seaborn\\_oldcore.py:1498: FutureWarning: is_categorical_dtype is deprecated and will be removed in a future version. Use isinstance(dtype, CategoricalDtype) instead\n",
      "  if pd.api.types.is_categorical_dtype(vector):\n",
      "E:\\ProgramData\\anaconda3\\Lib\\site-packages\\seaborn\\_oldcore.py:1498: FutureWarning: is_categorical_dtype is deprecated and will be removed in a future version. Use isinstance(dtype, CategoricalDtype) instead\n",
      "  if pd.api.types.is_categorical_dtype(vector):\n",
      "E:\\ProgramData\\anaconda3\\Lib\\site-packages\\seaborn\\_oldcore.py:1498: FutureWarning: is_categorical_dtype is deprecated and will be removed in a future version. Use isinstance(dtype, CategoricalDtype) instead\n",
      "  if pd.api.types.is_categorical_dtype(vector):\n",
      "E:\\ProgramData\\anaconda3\\Lib\\site-packages\\seaborn\\_oldcore.py:1498: FutureWarning: is_categorical_dtype is deprecated and will be removed in a future version. Use isinstance(dtype, CategoricalDtype) instead\n",
      "  if pd.api.types.is_categorical_dtype(vector):\n",
      "E:\\ProgramData\\anaconda3\\Lib\\site-packages\\seaborn\\_oldcore.py:1119: FutureWarning: use_inf_as_na option is deprecated and will be removed in a future version. Convert inf values to NaN before operating instead.\n",
      "  with pd.option_context('mode.use_inf_as_na', True):\n"
     ]
    },
    {
     "data": {
      "image/png": "[encoded data removed]",
      "text/plain": [
       "<Figure size 800x400 with 1 Axes>"
      ]
     },
     "metadata": {},
     "output_type": "display_data"
    }
   ],
   "source": [
    "fig, axes = plt.subplots(1, 1, figsize=(8, 4))\n",
    "p1 = sns.histplot(annData.layers[\"log1p_norm\"].sum(1), bins=100, kde=False, ax=axes)\n",
    "axes.set_title(\"Shifted logarithm\")\n",
    "plt.show()"
   ]
  },
  {
   "cell_type": "code",
   "execution_count": 32,
   "id": "5a6ac0c4",
   "metadata": {},
   "outputs": [
    {
     "data": {
      "text/plain": [
       "5.3913455"
      ]
     },
     "execution_count": 32,
     "metadata": {},
     "output_type": "execute_result"
    }
   ],
   "source": [
    "annData.layers[\"log1p_norm\"].max()"
   ]
  },
  {
   "attachments": {},
   "cell_type": "markdown",
   "id": "5c18b02f",
   "metadata": {},
   "source": [
    "从图中可以看出，该方法使结果倾向于正态分布"
   ]
  },
  {
   "attachments": {},
   "cell_type": "markdown",
   "id": "d0ffe82e",
   "metadata": {},
   "source": [
    "#### 皮尔森残差"
   ]
  },
  {
   "cell_type": "code",
   "execution_count": 33,
   "id": "671e5010",
   "metadata": {},
   "outputs": [
    {
     "ename": "MemoryError",
     "evalue": "Unable to allocate 818. MiB for an array with shape (9187, 23350) and data type float32",
     "output_type": "error",
     "traceback": [
      "\u001b[1;31m---------------------------------------------------------------------------\u001b[0m",
      "\u001b[1;31mMemoryError\u001b[0m                               Traceback (most recent call last)",
      "Cell \u001b[1;32mIn[33], line 1\u001b[0m\n\u001b[1;32m----> 1\u001b[0m analytic_pearson \u001b[38;5;241m=\u001b[39m sc\u001b[38;5;241m.\u001b[39mexperimental\u001b[38;5;241m.\u001b[39mpp\u001b[38;5;241m.\u001b[39mnormalize_pearson_residuals(annData, inplace\u001b[38;5;241m=\u001b[39m\u001b[38;5;28;01mFalse\u001b[39;00m)\n\u001b[0;32m      2\u001b[0m \u001b[38;5;66;03m#copy默认为true\u001b[39;00m\n\u001b[0;32m      3\u001b[0m annData\u001b[38;5;241m.\u001b[39mlayers[\u001b[38;5;124m\"\u001b[39m\u001b[38;5;124manalytic_pearson_residuals\u001b[39m\u001b[38;5;124m\"\u001b[39m] \u001b[38;5;241m=\u001b[39m csr_matrix(analytic_pearson[\u001b[38;5;124m\"\u001b[39m\u001b[38;5;124mX\u001b[39m\u001b[38;5;124m\"\u001b[39m])\n",
      "File \u001b[1;32mE:\\ProgramData\\anaconda3\\Lib\\site-packages\\scanpy\\experimental\\pp\\_normalization.py:129\u001b[0m, in \u001b[0;36mnormalize_pearson_residuals\u001b[1;34m(adata, theta, clip, check_values, layer, inplace, copy)\u001b[0m\n\u001b[0;32m    126\u001b[0m msg \u001b[38;5;241m=\u001b[39m \u001b[38;5;124mf\u001b[39m\u001b[38;5;124m'\u001b[39m\u001b[38;5;124mcomputing analytic Pearson residuals on \u001b[39m\u001b[38;5;132;01m{\u001b[39;00mcomputed_on\u001b[38;5;132;01m}\u001b[39;00m\u001b[38;5;124m'\u001b[39m\n\u001b[0;32m    127\u001b[0m start \u001b[38;5;241m=\u001b[39m logg\u001b[38;5;241m.\u001b[39minfo(msg)\n\u001b[1;32m--> 129\u001b[0m residuals \u001b[38;5;241m=\u001b[39m _pearson_residuals(X, theta, clip, check_values, copy\u001b[38;5;241m=\u001b[39m\u001b[38;5;241m~\u001b[39minplace)\n\u001b[0;32m    130\u001b[0m settings_dict \u001b[38;5;241m=\u001b[39m \u001b[38;5;28mdict\u001b[39m(theta\u001b[38;5;241m=\u001b[39mtheta, clip\u001b[38;5;241m=\u001b[39mclip, computed_on\u001b[38;5;241m=\u001b[39mcomputed_on)\n\u001b[0;32m    132\u001b[0m \u001b[38;5;28;01mif\u001b[39;00m inplace:\n",
      "File \u001b[1;32mE:\\ProgramData\\anaconda3\\Lib\\site-packages\\scanpy\\experimental\\pp\\_normalization.py:56\u001b[0m, in \u001b[0;36m_pearson_residuals\u001b[1;34m(X, theta, clip, check_values, copy)\u001b[0m\n\u001b[0;32m     53\u001b[0m     sums_cells \u001b[38;5;241m=\u001b[39m np\u001b[38;5;241m.\u001b[39msum(X, axis\u001b[38;5;241m=\u001b[39m\u001b[38;5;241m1\u001b[39m, keepdims\u001b[38;5;241m=\u001b[39m\u001b[38;5;28;01mTrue\u001b[39;00m)\n\u001b[0;32m     54\u001b[0m     sum_total \u001b[38;5;241m=\u001b[39m np\u001b[38;5;241m.\u001b[39msum(sums_genes)\n\u001b[1;32m---> 56\u001b[0m mu \u001b[38;5;241m=\u001b[39m np\u001b[38;5;241m.\u001b[39marray(sums_cells \u001b[38;5;241m@\u001b[39m sums_genes \u001b[38;5;241m/\u001b[39m sum_total)\n\u001b[0;32m     57\u001b[0m diff \u001b[38;5;241m=\u001b[39m np\u001b[38;5;241m.\u001b[39marray(X \u001b[38;5;241m-\u001b[39m mu)\n\u001b[0;32m     58\u001b[0m residuals \u001b[38;5;241m=\u001b[39m diff \u001b[38;5;241m/\u001b[39m np\u001b[38;5;241m.\u001b[39msqrt(mu \u001b[38;5;241m+\u001b[39m mu\u001b[38;5;241m*\u001b[39m\u001b[38;5;241m*\u001b[39m\u001b[38;5;241m2\u001b[39m \u001b[38;5;241m/\u001b[39m theta)\n",
      "\u001b[1;31mMemoryError\u001b[0m: Unable to allocate 818. MiB for an array with shape (9187, 23350) and data type float32"
     ]
    }
   ],
   "source": [
    "analytic_pearson = sc.experimental.pp.normalize_pearson_residuals(annData, inplace=False)\n",
    "#copy默认为true\n",
    "annData.layers[\"analytic_pearson_residuals\"] = csr_matrix(analytic_pearson[\"X\"])"
   ]
  },
  {
   "cell_type": "code",
   "execution_count": null,
   "id": "37b3aeef",
   "metadata": {},
   "outputs": [],
   "source": [
    "fig, axes = plt.subplots(1, 1, figsize=(8, 4))\n",
    "#p1 = sns.histplot(annData.obs[\"total_counts\"], bins=100, kde=False, ax=axes[0])\n",
    "#axes[0].set_title(\"Total counts\")\n",
    "p2 = sns.histplot(\n",
    "    annData.layers[\"analytic_pearson_residuals\"].sum(1), bins=100, kde=False, ax=axes\n",
    ")\n",
    "axes.set_title(\"Analytic Pearson residuals\")\n",
    "plt.show()"
   ]
  },
  {
   "cell_type": "code",
   "execution_count": null,
   "id": "5d165b95",
   "metadata": {},
   "outputs": [],
   "source": [
    "annData.layers[\"analytic_pearson_residuals\"].max()"
   ]
  },
  {
   "attachments": {},
   "cell_type": "markdown",
   "id": "cb1dde41",
   "metadata": {},
   "source": [
    "归一化效果较好，同时对数据进行了缩放，将数据范围所仿到了-1000到1000之间"
   ]
  },
  {
   "cell_type": "code",
   "execution_count": 34,
   "id": "aa883575",
   "metadata": {},
   "outputs": [
    {
     "data": {
      "text/plain": [
       "AnnData object with n_obs × n_vars = 9187 × 23350\n",
       "    obs: 'domain', 'cell_type', 'n_genes'\n",
       "    var: 'n_cells'\n",
       "    layers: 'log1p_norm'"
      ]
     },
     "execution_count": 34,
     "metadata": {},
     "output_type": "execute_result"
    }
   ],
   "source": [
    "annData"
   ]
  },
  {
   "attachments": {},
   "cell_type": "markdown",
   "id": "4bbd86a5",
   "metadata": {},
   "source": [
    "### 特征基因选择"
   ]
  },
  {
   "attachments": {},
   "cell_type": "markdown",
   "id": "6836c0b3",
   "metadata": {},
   "source": [
    "从上述分析可以看出，一个细胞表达的基因大概是1000个左右，其中包含了一些不太具有实际意义的基因\n",
    "- 大多数包含0计数\n",
    "- 许多细胞中普遍出现\n",
    "\n",
    "以上两种细胞在实际的分析中将不具有实际意义，所以现在的任务是计算出高可变基因（特征基因），排除那些不具有分析意义的基因，避免影响后续的聚类"
   ]
  },
  {
   "cell_type": "code",
   "execution_count": 35,
   "id": "a1eace93",
   "metadata": {},
   "outputs": [],
   "source": [
    "#将基因计数（X）复制到了counts的层中\n",
    "annData.layers['counts']=annData.X.copy()"
   ]
  },
  {
   "attachments": {},
   "cell_type": "markdown",
   "id": "14f169a6",
   "metadata": {},
   "source": [
    "#### 基于基因归一化方差"
   ]
  },
  {
   "cell_type": "code",
   "execution_count": 36,
   "id": "1b81025b",
   "metadata": {},
   "outputs": [],
   "source": [
    "annData_var_num=sc.pp.highly_variable_genes(\n",
    "    annData, \n",
    "    #指定用于识别高度可变基因的算法或方法的类型或名称，\n",
    "    flavor=\"seurat_v3\",\n",
    "    #用于指定所用的数据层，在layer上分析，基于原始数据\n",
    "    layer='counts',\n",
    "    #表示要识别作为高度可变基因的前n个基因\n",
    "    n_top_genes=2000,\n",
    "    #指定是否仅在数据子集上计算高度可变性\n",
    "    subset=False,\n",
    "    inplace=False,\n",
    ")\n",
    "annData_var_num['highly_variable'].value_counts()\n",
    "#将结果存储到var层中highly_variable_var部分\n",
    "annData.var[\"highly_variable_var\"]=annData_var_num['highly_variable']"
   ]
  },
  {
   "cell_type": "code",
   "execution_count": 37,
   "id": "1edfdad4",
   "metadata": {},
   "outputs": [
    {
     "data": {
      "text/html": [
       "<div>\n",
       "<style scoped>\n",
       "    .dataframe tbody tr th:only-of-type {\n",
       "        vertical-align: middle;\n",
       "    }\n",
       "\n",
       "    .dataframe tbody tr th {\n",
       "        vertical-align: top;\n",
       "    }\n",
       "\n",
       "    .dataframe thead th {\n",
       "        text-align: right;\n",
       "    }\n",
       "</style>\n",
       "<table border=\"1\" class=\"dataframe\">\n",
       "  <thead>\n",
       "    <tr style=\"text-align: right;\">\n",
       "      <th></th>\n",
       "      <th>means</th>\n",
       "      <th>variances</th>\n",
       "      <th>highly_variable_rank</th>\n",
       "      <th>variances_norm</th>\n",
       "      <th>highly_variable</th>\n",
       "    </tr>\n",
       "    <tr>\n",
       "      <th>genes</th>\n",
       "      <th></th>\n",
       "      <th></th>\n",
       "      <th></th>\n",
       "      <th></th>\n",
       "      <th></th>\n",
       "    </tr>\n",
       "  </thead>\n",
       "  <tbody>\n",
       "    <tr>\n",
       "      <th>0610005C13Rik</th>\n",
       "      <td>0.001415</td>\n",
       "      <td>0.001413</td>\n",
       "      <td>NaN</td>\n",
       "      <td>0.958597</td>\n",
       "      <td>False</td>\n",
       "    </tr>\n",
       "    <tr>\n",
       "      <th>0610009B22Rik</th>\n",
       "      <td>0.017307</td>\n",
       "      <td>0.022235</td>\n",
       "      <td>1520.0</td>\n",
       "      <td>1.125621</td>\n",
       "      <td>True</td>\n",
       "    </tr>\n",
       "    <tr>\n",
       "      <th>0610009E02Rik</th>\n",
       "      <td>0.014804</td>\n",
       "      <td>0.017199</td>\n",
       "      <td>NaN</td>\n",
       "      <td>1.023288</td>\n",
       "      <td>False</td>\n",
       "    </tr>\n",
       "    <tr>\n",
       "      <th>0610009L18Rik</th>\n",
       "      <td>0.016545</td>\n",
       "      <td>0.020410</td>\n",
       "      <td>NaN</td>\n",
       "      <td>1.082456</td>\n",
       "      <td>False</td>\n",
       "    </tr>\n",
       "    <tr>\n",
       "      <th>0610010F05Rik</th>\n",
       "      <td>0.157614</td>\n",
       "      <td>0.197232</td>\n",
       "      <td>NaN</td>\n",
       "      <td>1.005684</td>\n",
       "      <td>False</td>\n",
       "    </tr>\n",
       "    <tr>\n",
       "      <th>...</th>\n",
       "      <td>...</td>\n",
       "      <td>...</td>\n",
       "      <td>...</td>\n",
       "      <td>...</td>\n",
       "      <td>...</td>\n",
       "    </tr>\n",
       "    <tr>\n",
       "      <th>Ifitm5</th>\n",
       "      <td>0.000327</td>\n",
       "      <td>0.000326</td>\n",
       "      <td>NaN</td>\n",
       "      <td>0.999495</td>\n",
       "      <td>False</td>\n",
       "    </tr>\n",
       "    <tr>\n",
       "      <th>Gm43567</th>\n",
       "      <td>0.000435</td>\n",
       "      <td>0.000653</td>\n",
       "      <td>173.0</td>\n",
       "      <td>1.482499</td>\n",
       "      <td>True</td>\n",
       "    </tr>\n",
       "    <tr>\n",
       "      <th>Gm7648</th>\n",
       "      <td>0.000327</td>\n",
       "      <td>0.000326</td>\n",
       "      <td>NaN</td>\n",
       "      <td>0.999495</td>\n",
       "      <td>False</td>\n",
       "    </tr>\n",
       "    <tr>\n",
       "      <th>Olfr43</th>\n",
       "      <td>0.000327</td>\n",
       "      <td>0.000326</td>\n",
       "      <td>NaN</td>\n",
       "      <td>0.999495</td>\n",
       "      <td>False</td>\n",
       "    </tr>\n",
       "    <tr>\n",
       "      <th>Gm20832</th>\n",
       "      <td>0.000327</td>\n",
       "      <td>0.000326</td>\n",
       "      <td>NaN</td>\n",
       "      <td>0.999495</td>\n",
       "      <td>False</td>\n",
       "    </tr>\n",
       "  </tbody>\n",
       "</table>\n",
       "<p>23350 rows × 5 columns</p>\n",
       "</div>"
      ],
      "text/plain": [
       "                  means  variances  highly_variable_rank  variances_norm  \\\n",
       "genes                                                                      \n",
       "0610005C13Rik  0.001415   0.001413                   NaN        0.958597   \n",
       "0610009B22Rik  0.017307   0.022235                1520.0        1.125621   \n",
       "0610009E02Rik  0.014804   0.017199                   NaN        1.023288   \n",
       "0610009L18Rik  0.016545   0.020410                   NaN        1.082456   \n",
       "0610010F05Rik  0.157614   0.197232                   NaN        1.005684   \n",
       "...                 ...        ...                   ...             ...   \n",
       "Ifitm5         0.000327   0.000326                   NaN        0.999495   \n",
       "Gm43567        0.000435   0.000653                 173.0        1.482499   \n",
       "Gm7648         0.000327   0.000326                   NaN        0.999495   \n",
       "Olfr43         0.000327   0.000326                   NaN        0.999495   \n",
       "Gm20832        0.000327   0.000326                   NaN        0.999495   \n",
       "\n",
       "               highly_variable  \n",
       "genes                           \n",
       "0610005C13Rik            False  \n",
       "0610009B22Rik             True  \n",
       "0610009E02Rik            False  \n",
       "0610009L18Rik            False  \n",
       "0610010F05Rik            False  \n",
       "...                        ...  \n",
       "Ifitm5                   False  \n",
       "Gm43567                   True  \n",
       "Gm7648                   False  \n",
       "Olfr43                   False  \n",
       "Gm20832                  False  \n",
       "\n",
       "[23350 rows x 5 columns]"
      ]
     },
     "execution_count": 37,
     "metadata": {},
     "output_type": "execute_result"
    }
   ],
   "source": [
    "annData_var_num"
   ]
  },
  {
   "attachments": {},
   "cell_type": "markdown",
   "id": "bc8ea5b9",
   "metadata": {},
   "source": [
    "#### 基于基因皮尔森近似残差"
   ]
  },
  {
   "cell_type": "code",
   "execution_count": 38,
   "id": "5dd333b4",
   "metadata": {},
   "outputs": [],
   "source": [
    "annData_pearson_num=sc.experimental.pp.highly_variable_genes(\n",
    "    annData, \n",
    "    #指定用于识别高度可变基因的算法或方法的类型或名称，\n",
    "    flavor=\"pearson_residuals\",\n",
    "    #用于指定所用的数据层\n",
    "    layer='counts',\n",
    "    #表示要识别作为高度可变基因的前n个基因\n",
    "    n_top_genes=2000,\n",
    "    #指定是否仅在数据子集上计算高度可变性\n",
    "    subset=False,\n",
    "    inplace=False,\n",
    ")\n",
    "annData_pearson_num['highly_variable'].value_counts()\n",
    "#将结果存储到var层中highly_variable_pearson部分\n",
    "annData.var[\"highly_variable_pearson\"]=annData_pearson_num['highly_variable']"
   ]
  },
  {
   "cell_type": "code",
   "execution_count": 39,
   "id": "8354045e",
   "metadata": {},
   "outputs": [
    {
     "data": {
      "text/html": [
       "<div>\n",
       "<style scoped>\n",
       "    .dataframe tbody tr th:only-of-type {\n",
       "        vertical-align: middle;\n",
       "    }\n",
       "\n",
       "    .dataframe tbody tr th {\n",
       "        vertical-align: top;\n",
       "    }\n",
       "\n",
       "    .dataframe thead th {\n",
       "        text-align: right;\n",
       "    }\n",
       "</style>\n",
       "<table border=\"1\" class=\"dataframe\">\n",
       "  <thead>\n",
       "    <tr style=\"text-align: right;\">\n",
       "      <th></th>\n",
       "      <th>means</th>\n",
       "      <th>variances</th>\n",
       "      <th>residual_variances</th>\n",
       "      <th>highly_variable_rank</th>\n",
       "      <th>highly_variable</th>\n",
       "    </tr>\n",
       "    <tr>\n",
       "      <th>genes</th>\n",
       "      <th></th>\n",
       "      <th></th>\n",
       "      <th></th>\n",
       "      <th></th>\n",
       "      <th></th>\n",
       "    </tr>\n",
       "  </thead>\n",
       "  <tbody>\n",
       "    <tr>\n",
       "      <th>0610005C13Rik</th>\n",
       "      <td>0.001415</td>\n",
       "      <td>0.001413</td>\n",
       "      <td>1.031502</td>\n",
       "      <td>NaN</td>\n",
       "      <td>False</td>\n",
       "    </tr>\n",
       "    <tr>\n",
       "      <th>0610009B22Rik</th>\n",
       "      <td>0.017307</td>\n",
       "      <td>0.022235</td>\n",
       "      <td>1.399762</td>\n",
       "      <td>NaN</td>\n",
       "      <td>False</td>\n",
       "    </tr>\n",
       "    <tr>\n",
       "      <th>0610009E02Rik</th>\n",
       "      <td>0.014804</td>\n",
       "      <td>0.017199</td>\n",
       "      <td>1.084971</td>\n",
       "      <td>NaN</td>\n",
       "      <td>False</td>\n",
       "    </tr>\n",
       "    <tr>\n",
       "      <th>0610009L18Rik</th>\n",
       "      <td>0.016545</td>\n",
       "      <td>0.020410</td>\n",
       "      <td>1.332079</td>\n",
       "      <td>NaN</td>\n",
       "      <td>False</td>\n",
       "    </tr>\n",
       "    <tr>\n",
       "      <th>0610010F05Rik</th>\n",
       "      <td>0.157614</td>\n",
       "      <td>0.197232</td>\n",
       "      <td>1.182354</td>\n",
       "      <td>NaN</td>\n",
       "      <td>False</td>\n",
       "    </tr>\n",
       "    <tr>\n",
       "      <th>...</th>\n",
       "      <td>...</td>\n",
       "      <td>...</td>\n",
       "      <td>...</td>\n",
       "      <td>...</td>\n",
       "      <td>...</td>\n",
       "    </tr>\n",
       "    <tr>\n",
       "      <th>Ifitm5</th>\n",
       "      <td>0.000327</td>\n",
       "      <td>0.000326</td>\n",
       "      <td>1.410549</td>\n",
       "      <td>NaN</td>\n",
       "      <td>False</td>\n",
       "    </tr>\n",
       "    <tr>\n",
       "      <th>Gm43567</th>\n",
       "      <td>0.000435</td>\n",
       "      <td>0.000653</td>\n",
       "      <td>1.550965</td>\n",
       "      <td>1421.0</td>\n",
       "      <td>True</td>\n",
       "    </tr>\n",
       "    <tr>\n",
       "      <th>Gm7648</th>\n",
       "      <td>0.000327</td>\n",
       "      <td>0.000326</td>\n",
       "      <td>0.546679</td>\n",
       "      <td>NaN</td>\n",
       "      <td>False</td>\n",
       "    </tr>\n",
       "    <tr>\n",
       "      <th>Olfr43</th>\n",
       "      <td>0.000327</td>\n",
       "      <td>0.000326</td>\n",
       "      <td>1.193447</td>\n",
       "      <td>NaN</td>\n",
       "      <td>False</td>\n",
       "    </tr>\n",
       "    <tr>\n",
       "      <th>Gm20832</th>\n",
       "      <td>0.000327</td>\n",
       "      <td>0.000326</td>\n",
       "      <td>0.858190</td>\n",
       "      <td>NaN</td>\n",
       "      <td>False</td>\n",
       "    </tr>\n",
       "  </tbody>\n",
       "</table>\n",
       "<p>23350 rows × 5 columns</p>\n",
       "</div>"
      ],
      "text/plain": [
       "                  means  variances  residual_variances  highly_variable_rank  \\\n",
       "genes                                                                          \n",
       "0610005C13Rik  0.001415   0.001413            1.031502                   NaN   \n",
       "0610009B22Rik  0.017307   0.022235            1.399762                   NaN   \n",
       "0610009E02Rik  0.014804   0.017199            1.084971                   NaN   \n",
       "0610009L18Rik  0.016545   0.020410            1.332079                   NaN   \n",
       "0610010F05Rik  0.157614   0.197232            1.182354                   NaN   \n",
       "...                 ...        ...                 ...                   ...   \n",
       "Ifitm5         0.000327   0.000326            1.410549                   NaN   \n",
       "Gm43567        0.000435   0.000653            1.550965                1421.0   \n",
       "Gm7648         0.000327   0.000326            0.546679                   NaN   \n",
       "Olfr43         0.000327   0.000326            1.193447                   NaN   \n",
       "Gm20832        0.000327   0.000326            0.858190                   NaN   \n",
       "\n",
       "               highly_variable  \n",
       "genes                           \n",
       "0610005C13Rik            False  \n",
       "0610009B22Rik            False  \n",
       "0610009E02Rik            False  \n",
       "0610009L18Rik            False  \n",
       "0610010F05Rik            False  \n",
       "...                        ...  \n",
       "Ifitm5                   False  \n",
       "Gm43567                   True  \n",
       "Gm7648                   False  \n",
       "Olfr43                   False  \n",
       "Gm20832                  False  \n",
       "\n",
       "[23350 rows x 5 columns]"
      ]
     },
     "execution_count": 39,
     "metadata": {},
     "output_type": "execute_result"
    }
   ],
   "source": [
    "annData_pearson_num"
   ]
  },
  {
   "attachments": {},
   "cell_type": "markdown",
   "id": "c9d88a2d",
   "metadata": {},
   "source": [
    "### 数据降维"
   ]
  },
  {
   "attachments": {},
   "cell_type": "markdown",
   "id": "dd3512aa",
   "metadata": {},
   "source": [
    "上一步中，已经通过特征基因的选择对数据的维度进行了初步降低，将其中比较能代表数据（或者说区别数据）的那一部分特征筛选出来，接下来，我们要通过使用降维算法进一步降低数据的维度，以便降低数据复杂性和进行可视化。"
   ]
  },
  {
   "attachments": {},
   "cell_type": "markdown",
   "id": "2e0ceae0",
   "metadata": {},
   "source": [
    "#### PCA降维\n",
    "PCA是主成分分析法，它通过对原始数据集进行正交变换，创建一组新的无关变量，即主成分（PCs）\n",
    "\n",
    "PCs是原始数据集中特征的线性组合，并按照方差的递减顺序进行排名以定义变换，通常第一主成分的方差最大。"
   ]
  },
  {
   "cell_type": "code",
   "execution_count": 40,
   "id": "2acdedac",
   "metadata": {},
   "outputs": [
    {
     "data": {
      "text/html": [
       "<div>\n",
       "<style scoped>\n",
       "    .dataframe tbody tr th:only-of-type {\n",
       "        vertical-align: middle;\n",
       "    }\n",
       "\n",
       "    .dataframe tbody tr th {\n",
       "        vertical-align: top;\n",
       "    }\n",
       "\n",
       "    .dataframe thead th {\n",
       "        text-align: right;\n",
       "    }\n",
       "</style>\n",
       "<table border=\"1\" class=\"dataframe\">\n",
       "  <thead>\n",
       "    <tr style=\"text-align: right;\">\n",
       "      <th></th>\n",
       "      <th>n_cells</th>\n",
       "      <th>highly_variable_var</th>\n",
       "      <th>highly_variable_pearson</th>\n",
       "    </tr>\n",
       "    <tr>\n",
       "      <th>genes</th>\n",
       "      <th></th>\n",
       "      <th></th>\n",
       "      <th></th>\n",
       "    </tr>\n",
       "  </thead>\n",
       "  <tbody>\n",
       "    <tr>\n",
       "      <th>0610005C13Rik</th>\n",
       "      <td>13</td>\n",
       "      <td>False</td>\n",
       "      <td>False</td>\n",
       "    </tr>\n",
       "    <tr>\n",
       "      <th>0610009B22Rik</th>\n",
       "      <td>137</td>\n",
       "      <td>True</td>\n",
       "      <td>False</td>\n",
       "    </tr>\n",
       "    <tr>\n",
       "      <th>0610009E02Rik</th>\n",
       "      <td>125</td>\n",
       "      <td>False</td>\n",
       "      <td>False</td>\n",
       "    </tr>\n",
       "    <tr>\n",
       "      <th>0610009L18Rik</th>\n",
       "      <td>135</td>\n",
       "      <td>False</td>\n",
       "      <td>False</td>\n",
       "    </tr>\n",
       "    <tr>\n",
       "      <th>0610010F05Rik</th>\n",
       "      <td>1212</td>\n",
       "      <td>False</td>\n",
       "      <td>False</td>\n",
       "    </tr>\n",
       "  </tbody>\n",
       "</table>\n",
       "</div>"
      ],
      "text/plain": [
       "               n_cells  highly_variable_var  highly_variable_pearson\n",
       "genes                                                               \n",
       "0610005C13Rik       13                False                    False\n",
       "0610009B22Rik      137                 True                    False\n",
       "0610009E02Rik      125                False                    False\n",
       "0610009L18Rik      135                False                    False\n",
       "0610010F05Rik     1212                False                    False"
      ]
     },
     "execution_count": 40,
     "metadata": {},
     "output_type": "execute_result"
    }
   ],
   "source": [
    "annData.var.head()"
   ]
  },
  {
   "cell_type": "code",
   "execution_count": 41,
   "id": "a1538be3",
   "metadata": {},
   "outputs": [],
   "source": [
    "#将原始数据存放在.raw中，注意.raw是一个只读属性，不可以在其上做更改\n",
    "annData.raw=annData.copy()\n"
   ]
  },
  {
   "cell_type": "code",
   "execution_count": 42,
   "id": "bea2bfe4",
   "metadata": {},
   "outputs": [
    {
     "data": {
      "text/plain": [
       "AnnData object with n_obs × n_vars = 9187 × 23350\n",
       "    obs: 'domain', 'cell_type', 'n_genes'\n",
       "    var: 'n_cells', 'highly_variable_var', 'highly_variable_pearson'\n",
       "    layers: 'log1p_norm', 'counts'"
      ]
     },
     "execution_count": 42,
     "metadata": {},
     "output_type": "execute_result"
    }
   ],
   "source": [
    "annData"
   ]
  },
  {
   "cell_type": "code",
   "execution_count": 43,
   "id": "cee0ae33",
   "metadata": {},
   "outputs": [
    {
     "data": {
      "text/plain": [
       "(9187, 23350)"
      ]
     },
     "execution_count": 43,
     "metadata": {},
     "output_type": "execute_result"
    }
   ],
   "source": [
    "annData.shape"
   ]
  },
  {
   "cell_type": "code",
   "execution_count": 44,
   "id": "ae19f19d",
   "metadata": {},
   "outputs": [
    {
     "data": {
      "text/plain": [
       "(9187, 2000)"
      ]
     },
     "execution_count": 44,
     "metadata": {},
     "output_type": "execute_result"
    }
   ],
   "source": [
    "#保留 annData.var 中 \"highly_variable_pearson\" 列值为 True 的列（特征）\n",
    "#并将选择后的数据重新赋值给 annData，覆盖掉原始数据。\n",
    "annData=annData[:,annData.var[\"highly_variable_pearson\"]==True]\n",
    "annData.shape"
   ]
  },
  {
   "cell_type": "code",
   "execution_count": 45,
   "id": "cd9a8d19",
   "metadata": {},
   "outputs": [],
   "source": [
    "#手动创建一个变量，这个变量就可以进行更改然后再存回layer层中\n",
    "annData_scaled=annData.copy()"
   ]
  },
  {
   "cell_type": "code",
   "execution_count": 46,
   "id": "774253ce",
   "metadata": {},
   "outputs": [],
   "source": [
    "sc.pp.scale(annData_scaled,max_value=10)"
   ]
  },
  {
   "cell_type": "code",
   "execution_count": 47,
   "id": "398dc87c",
   "metadata": {},
   "outputs": [
    {
     "name": "stderr",
     "output_type": "stream",
     "text": [
      "C:\\Users\\Administrator\\AppData\\Local\\Temp\\ipykernel_20708\\1746497861.py:1: ImplicitModificationWarning: Setting element `.layers['scaled']` of view, initializing view as actual.\n",
      "  annData.layers[\"scaled\"]=annData_scaled\n"
     ]
    }
   ],
   "source": [
    "annData.layers[\"scaled\"]=annData_scaled\n"
   ]
  },
  {
   "cell_type": "code",
   "execution_count": 48,
   "id": "a7d0fd02",
   "metadata": {},
   "outputs": [
    {
     "data": {
      "text/plain": [
       "AnnData object with n_obs × n_vars = 9187 × 2000\n",
       "    obs: 'domain', 'cell_type', 'n_genes'\n",
       "    var: 'n_cells', 'highly_variable_var', 'highly_variable_pearson'\n",
       "    layers: 'log1p_norm', 'counts', 'scaled'"
      ]
     },
     "execution_count": 48,
     "metadata": {},
     "output_type": "execute_result"
    }
   ],
   "source": [
    "annData"
   ]
  },
  {
   "attachments": {},
   "cell_type": "markdown",
   "id": "c5858a4d",
   "metadata": {},
   "source": [
    "接下来基于scaled层进行pca运算"
   ]
  },
  {
   "cell_type": "code",
   "execution_count": 49,
   "id": "c25d8015-fea7-47d8-a603-38c88bbae273",
   "metadata": {},
   "outputs": [],
   "source": [
    "sc.pp.pca(annData,n_comps=50)"
   ]
  },
  {
   "cell_type": "code",
   "execution_count": 50,
   "id": "d30f4c4b-540e-4690-a97c-5b3502480df8",
   "metadata": {},
   "outputs": [
    {
     "data": {
      "text/plain": [
       "AnnData object with n_obs × n_vars = 9187 × 2000\n",
       "    obs: 'domain', 'cell_type', 'n_genes'\n",
       "    var: 'n_cells', 'highly_variable_var', 'highly_variable_pearson'\n",
       "    layers: 'log1p_norm', 'counts', 'scaled'"
      ]
     },
     "execution_count": 50,
     "metadata": {},
     "output_type": "execute_result"
    }
   ],
   "source": [
    "annData"
   ]
  },
  {
   "cell_type": "code",
   "execution_count": 52,
   "id": "400a9e85-73e4-45a8-8f88-d7581c93f450",
   "metadata": {},
   "outputs": [
    {
     "name": "stdout",
     "output_type": "stream",
     "text": [
      "KeysView(AxisArrays with keys: )\n"
     ]
    }
   ],
   "source": [
    "print(annData.obsm.keys())\n"
   ]
  },
  {
   "cell_type": "code",
   "execution_count": 51,
   "id": "470205eb-7a48-4c6a-9e45-d1db276e91a8",
   "metadata": {},
   "outputs": [
    {
     "ename": "KeyError",
     "evalue": "'X_pca'",
     "output_type": "error",
     "traceback": [
      "\u001b[1;31m---------------------------------------------------------------------------\u001b[0m",
      "\u001b[1;31mKeyError\u001b[0m                                  Traceback (most recent call last)",
      "Cell \u001b[1;32mIn[51], line 1\u001b[0m\n\u001b[1;32m----> 1\u001b[0m annData\u001b[38;5;241m.\u001b[39mobsm[\u001b[38;5;124m\"\u001b[39m\u001b[38;5;124mscaled|X_pca\u001b[39m\u001b[38;5;124m\"\u001b[39m]\u001b[38;5;241m=\u001b[39mannData\u001b[38;5;241m.\u001b[39mobsm[\u001b[38;5;124m\"\u001b[39m\u001b[38;5;124mX_pca\u001b[39m\u001b[38;5;124m\"\u001b[39m]\n",
      "File \u001b[1;32mE:\\ProgramData\\anaconda3\\Lib\\site-packages\\anndata\\_core\\aligned_mapping.py:192\u001b[0m, in \u001b[0;36mAlignedActualMixin.__getitem__\u001b[1;34m(self, key)\u001b[0m\n\u001b[0;32m    191\u001b[0m \u001b[38;5;28;01mdef\u001b[39;00m \u001b[38;5;21m__getitem__\u001b[39m(\u001b[38;5;28mself\u001b[39m, key: \u001b[38;5;28mstr\u001b[39m) \u001b[38;5;241m-\u001b[39m\u001b[38;5;241m>\u001b[39m V:\n\u001b[1;32m--> 192\u001b[0m     \u001b[38;5;28;01mreturn\u001b[39;00m \u001b[38;5;28mself\u001b[39m\u001b[38;5;241m.\u001b[39m_data[key]\n",
      "\u001b[1;31mKeyError\u001b[0m: 'X_pca'"
     ]
    }
   ],
   "source": [
    "annData.obsm[\"scaled|X_pca\"]=annData.obsm[\"X_pca\"]"
   ]
  },
  {
   "cell_type": "code",
   "execution_count": null,
   "id": "b49499ac",
   "metadata": {
    "scrolled": true
   },
   "outputs": [],
   "source": [
    "#选择要进行PCA的数据\n",
    "pca_data=annData.layers[\"scaled\"]\n",
    "#创建PCA模型\n",
    "pca=PCA(n_components=50)\n",
    "#在提取的数据上进行PCA\n",
    "pca_result=pca.fit_transform(pca_data)\n",
    "#将PCA的结果存储回Anndata对象中\n",
    "annData.obsm[\"scaled|X_pca\"]=pca_result"
   ]
  },
  {
   "cell_type": "code",
   "execution_count": null,
   "id": "dea29b47",
   "metadata": {},
   "outputs": [],
   "source": [
    "annData"
   ]
  },
  {
   "attachments": {},
   "cell_type": "markdown",
   "id": "b3da45d6",
   "metadata": {},
   "source": [
    "使用原始数据进行pca主成分分析以及进行对比"
   ]
  },
  {
   "cell_type": "code",
   "execution_count": null,
   "id": "75512545",
   "metadata": {},
   "outputs": [],
   "source": [
    "sc.pp.pca(annData.layers[\"counts\"],n_comps=50)\n",
    "annData.obsm[\"original|X_pca\"]=annData.obsm[\"X_pca\"]"
   ]
  },
  {
   "cell_type": "code",
   "execution_count": null,
   "id": "d45b9863-efed-43d5-a6fb-13133a0f919f",
   "metadata": {},
   "outputs": [],
   "source": [
    "# 检查主成分分析结果是否存储在 annData.obsm 中\n",
    "print(annData.obsm.keys())"
   ]
  },
  {
   "attachments": {},
   "cell_type": "markdown",
   "id": "599b0ff6",
   "metadata": {},
   "source": [
    "将两种结果可视化，对比最后的结果"
   ]
  },
  {
   "cell_type": "code",
   "execution_count": null,
   "id": "68716583",
   "metadata": {},
   "outputs": [],
   "source": [
    "sc.pl.pca(annData, color=['original|X_pca', 'scaled|X_pca'])\n"
   ]
  },
  {
   "attachments": {},
   "cell_type": "markdown",
   "id": "d88cce81",
   "metadata": {},
   "source": [
    "#### t-SNE"
   ]
  },
  {
   "cell_type": "code",
   "execution_count": null,
   "id": "21397fd8",
   "metadata": {},
   "outputs": [],
   "source": [
    "sc.tl.tsne(annData,use_rep=\"scaled_X_pca\",copy=False,n_pcs=50)\n",
    "#默认存放在X_tsne中\n",
    "annData.obsm[\"scaled|X_tsne\"]=annData.obsm[\"X_tsne\"]"
   ]
  },
  {
   "cell_type": "code",
   "execution_count": null,
   "id": "9c7347cc",
   "metadata": {},
   "outputs": [],
   "source": [
    "annData"
   ]
  },
  {
   "attachments": {},
   "cell_type": "markdown",
   "id": "3d77de98",
   "metadata": {},
   "source": [
    "### 聚类"
   ]
  },
  {
   "attachments": {},
   "cell_type": "markdown",
   "id": "c91c2d74",
   "metadata": {},
   "source": [
    "首先基于细胞的主成分构建领域图，细胞的主成分存储在layers[\"scaled|X_pca\"]中"
   ]
  },
  {
   "cell_type": "code",
   "execution_count": null,
   "id": "d92d50f0",
   "metadata": {},
   "outputs": [],
   "source": [
    "#邻居数量为15，主成分数量为30\n",
    "sc.pp.neighbors(annData,n_neighbors=15,n_pcs=30,use_rep=\"scaled|X_pca\")"
   ]
  },
  {
   "attachments": {},
   "cell_type": "markdown",
   "id": "55ac41a0",
   "metadata": {},
   "source": [
    "使用不同分辨率调用Leiden算法："
   ]
  },
  {
   "cell_type": "code",
   "execution_count": null,
   "id": "1c5b224d",
   "metadata": {},
   "outputs": [],
   "source": [
    "sc.tl.leiden(annData,key_added=\"leiden_0_25\",resolution=0.25)\n",
    "sc.tl.leiden(annData,key_added=\"leiden_0_5\",resolution=0.5)\n",
    "sc.tl.leiden(annData,key_added=\"leiden_1_0\",resolution=1.0)\n",
    "sc.tl.leiden(annData,key_added=\"leiden_1_5\",resolution=1.5)\n",
    "sc.tl.leiden(annData,key_added=\"leiden_2_0\",resolution=2.0)"
   ]
  },
  {
   "cell_type": "code",
   "execution_count": null,
   "id": "4edc3c30",
   "metadata": {},
   "outputs": [],
   "source": [
    "sc.pl.umap(annData,color=[\"leiden_0_25\",'leiden_0_5','leiden_1_0','leiden_1_5','leiden_2_0'],legend_fontsize=8)"
   ]
  },
  {
   "cell_type": "code",
   "execution_count": null,
   "id": "6af442c6",
   "metadata": {},
   "outputs": [],
   "source": [
    "#use_raw=False可以绘制缩放矫正的邻域图\n",
    "sc.pl.umap(annData,color=[\"leiden_0_25\",'leiden_0_5','leiden_1_0','leiden_1_5','leiden_2_0'],legend_fontsize=8,use_raw=False)"
   ]
  },
  {
   "cell_type": "code",
   "execution_count": null,
   "id": "a24ee919",
   "metadata": {},
   "outputs": [],
   "source": [
    "sc.pl.pca(annData,color=[\"leiden_0_25\",'leiden_0_5','leiden_1_0','leiden_1_5','leiden_2_0'],legend_fontsize=8)"
   ]
  },
  {
   "attachments": {},
   "cell_type": "markdown",
   "id": "aaf76b12",
   "metadata": {},
   "source": [
    "### 定义细胞类型"
   ]
  },
  {
   "attachments": {},
   "cell_type": "markdown",
   "id": "115e6975",
   "metadata": {},
   "source": [
    "为了定义每个簇属于什么细胞，首先根据基因的差异表达水平将每个簇排名前25的基因导出"
   ]
  },
  {
   "cell_type": "code",
   "execution_count": null,
   "id": "be013f08",
   "metadata": {},
   "outputs": [],
   "source": [
    "sc.tl.rank_genes_groups(annData,\"leiden_1_0\",method=\"wilcoxon\")\n",
    "#sharey=False表示每个子图的 y 轴刻度范围会根据对应的差异表达基因而自动调整\n",
    "sc.pl.rank_genes_groups(annData,n_genes=25,sharey=False)"
   ]
  },
  {
   "cell_type": "code",
   "execution_count": null,
   "id": "0a09f507",
   "metadata": {},
   "outputs": [],
   "source": [
    "annData"
   ]
  },
  {
   "attachments": {},
   "cell_type": "markdown",
   "id": "c79a0e90",
   "metadata": {},
   "source": [
    "使用标记基因对聚类进行注释涉及将特定基因与每个聚类相关联，从而识别可能表示在这些聚类中的细胞类型或生物状态。"
   ]
  },
  {
   "cell_type": "code",
   "execution_count": null,
   "id": "981d999a",
   "metadata": {},
   "outputs": [],
   "source": [
    "groups=annData.uns[\"rank_genes_groups\"]\n",
    "groups_result=groups[\"name\"].dtype.names\n",
    "data={}\n",
    "for group in groups_result:\n",
    "    for key in [\"names\",\"pvals\"]:\n",
    "        string=group+'_'+key[:1]\n",
    "        data[string]=groups[key][group]\n",
    "df=pd.DataFrame(data)\n",
    "df.head(25)"
   ]
  },
  {
   "attachments": {},
   "cell_type": "markdown",
   "id": "a29fc98e",
   "metadata": {},
   "source": [
    "### 可视化"
   ]
  },
  {
   "cell_type": "code",
   "execution_count": null,
   "id": "b30b3a0c-b634-448c-8d04-cd76555e89cf",
   "metadata": {},
   "outputs": [],
   "source": []
  },
  {
   "cell_type": "code",
   "execution_count": null,
   "id": "2a556e99-31cb-4800-b155-c12e5371d896",
   "metadata": {},
   "outputs": [],
   "source": []
  },
  {
   "cell_type": "code",
   "execution_count": null,
   "id": "cbab6baa-f71b-460c-b00b-8e2def2cc416",
   "metadata": {},
   "outputs": [],
   "source": []
  },
  {
   "cell_type": "code",
   "execution_count": null,
   "id": "3415ba64-2f34-44df-93cd-83dc6989ff9e",
   "metadata": {},
   "outputs": [],
   "source": []
  },
  {
   "cell_type": "code",
   "execution_count": null,
   "id": "4d0a51f3-db35-4431-82bb-fed621254381",
   "metadata": {},
   "outputs": [],
   "source": []
  },
  {
   "cell_type": "code",
   "execution_count": null,
   "id": "ca8b2789-9d08-40bd-92b2-b26427a5ba15",
   "metadata": {},
   "outputs": [],
   "source": []
  }
 ],
 "metadata": {
  "kernelspec": {
   "display_name": "Python 3 (ipykernel)",
   "language": "python",
   "name": "python3"
  },
  "language_info": {
   "codemirror_mode": {
    "name": "ipython",
    "version": 3
   },
   "file_extension": ".py",
   "mimetype": "text/x-python",
   "name": "python",
   "nbconvert_exporter": "python",
   "pygments_lexer": "ipython3",
   "version": "3.11.5"
  }
 },
 "nbformat": 4,
 "nbformat_minor": 5
}
